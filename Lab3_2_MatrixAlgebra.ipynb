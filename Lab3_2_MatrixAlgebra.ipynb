{
  "nbformat": 4,
  "nbformat_minor": 0,
  "metadata": {
    "colab": {
      "provenance": []
    },
    "kernelspec": {
      "name": "ir",
      "display_name": "R"
    },
    "language_info": {
      "name": "R"
    }
  },
  "cells": [
    {
      "cell_type": "markdown",
      "metadata": {
        "id": "view-in-github"
      },
      "source": [
        "<a href=\"https://colab.research.google.com/github/zhaotianjing/ASA_workshop/blob/main/2024_Mixed_Models_for_Agricultural_Science_R.ipynb\" target=\"_parent\"><img src=\"https://colab.research.google.com/assets/colab-badge.svg\" alt=\"Open In Colab\"/></a>"
      ]
    },
    {
      "cell_type": "markdown",
      "metadata": {
        "id": "mkTgTNIvlNmP"
      },
      "source": [
        "### **Create a 1D array**"
      ]
    },
    {
      "cell_type": "markdown",
      "metadata": {
        "id": "OZBO5r_ZlNmP"
      },
      "source": [
        "#### Explicitly define the values\n",
        "Use `[]` to represent a list (array)"
      ]
    },
    {
      "cell_type": "code",
      "execution_count": null,
      "metadata": {
        "id": "izljcjiflNmQ",
        "colab": {
          "base_uri": "https://localhost:8080/"
        },
        "outputId": "75b28737-89ea-43b2-ae03-29f0e5f147fa"
      },
      "outputs": [
        {
          "output_type": "stream",
          "name": "stdout",
          "text": [
            "[1, 2, 3, 4]\n"
          ]
        }
      ],
      "source": [
        "# create a list (array)\n",
        "array = [1, 2, 3, 4]\n",
        "print(array)"
      ]
    },
    {
      "cell_type": "markdown",
      "metadata": {
        "id": "txLY2paTlNmQ"
      },
      "source": [
        "`np.array()`: instantiate a NumPy array (https://numpy.org/doc/stable/reference/generated/numpy.array.html)"
      ]
    },
    {
      "cell_type": "code",
      "execution_count": null,
      "metadata": {
        "id": "fadmxkRTlNmQ",
        "colab": {
          "base_uri": "https://localhost:8080/"
        },
        "outputId": "46460c8d-c78a-481f-a5cf-16f04361828e"
      },
      "outputs": [
        {
          "output_type": "stream",
          "name": "stdout",
          "text": [
            "[1 2 3 4]\n"
          ]
        }
      ],
      "source": [
        "# assign the list to a NumPy array\n",
        "array = [1, 2, 3, 4]\n",
        "array_np = np.array(array)\n",
        "# it is equivalent\n",
        "array_np = np.array([1, 2, 3, 4])\n",
        "# print the result\n",
        "print(array_np)"
      ]
    },
    {
      "cell_type": "markdown",
      "metadata": {
        "id": "jdmMwNGplNmR"
      },
      "source": [
        "#### All-zero or all-one vectors/matrices\n",
        "<center><img src=\"https://github.com/vt-ads/intro_to_phenomics/blob/main/res/l01/mask.png?raw=1\" width=\"800\"/></center>\n",
        "\n",
        "`np.zeros()`: create an array of all zeros (https://numpy.org/doc/stable/reference/generated/numpy.zeros.html)\n",
        "\n",
        "`np.ones()`: create an array of all zeros (https://numpy.org/doc/stable/reference/generated/numpy.ones.html)\n",
        "\n",
        "This technique is very useful when you want to generate a binary vector/matrix to indicate signals of interest."
      ]
    },
    {
      "cell_type": "code",
      "execution_count": null,
      "metadata": {
        "id": "GN0Xmos5lNmR",
        "colab": {
          "base_uri": "https://localhost:8080/"
        },
        "outputId": "e6c08191-4bf6-4eb2-e266-e5ad6187448f"
      },
      "outputs": [
        {
          "output_type": "stream",
          "name": "stdout",
          "text": [
            "[0. 0. 0. 0.]\n"
          ]
        }
      ],
      "source": [
        "array_zeros = np.zeros(4)\n",
        "print(array_zeros)"
      ]
    },
    {
      "cell_type": "code",
      "execution_count": null,
      "metadata": {
        "id": "6rGOo0rBlNmR",
        "colab": {
          "base_uri": "https://localhost:8080/"
        },
        "outputId": "61b2423b-ab90-4059-b7b3-1971126a0911"
      },
      "outputs": [
        {
          "output_type": "stream",
          "name": "stdout",
          "text": [
            "[1. 1. 1. 1.]\n"
          ]
        }
      ],
      "source": [
        "array_ones = np.ones(4)\n",
        "print(array_ones)"
      ]
    },
    {
      "cell_type": "markdown",
      "metadata": {
        "id": "YFLB3EhZlNmR"
      },
      "source": [
        "#### Arithmetic sequence\n",
        "`np.arange()`: create a sequence defined by an interval\n",
        "(https://numpy.org/doc/stable/reference/generated/numpy.arange.html)\n",
        "\n",
        "`np.linspace()`: create a sequence defined by a size (https://numpy.org/doc/stable/reference/generated/numpy.linspace.html)\n",
        "\n",
        "A way to subset (downsample) a dataset or an image.\n",
        "<center><img src=\"https://github.com/vt-ads/intro_to_phenomics/blob/main/res/l01/downsample.png?raw=1\" width=\"1000\"/></center>\n"
      ]
    },
    {
      "cell_type": "code",
      "execution_count": null,
      "metadata": {
        "id": "gmVD8eT1lNmS",
        "colab": {
          "base_uri": "https://localhost:8080/"
        },
        "outputId": "53d08520-2633-4e0d-cda1-c92bfb93564c"
      },
      "outputs": [
        {
          "output_type": "stream",
          "name": "stdout",
          "text": [
            "[1.  3.5 6.  8.5]\n"
          ]
        }
      ],
      "source": [
        "# np.arange(start, stop, interval)\n",
        "array_seq_interval = np.arange(1, 10, 2.5)\n",
        "print(array_seq_interval)"
      ]
    },
    {
      "cell_type": "code",
      "execution_count": null,
      "metadata": {
        "id": "g_R-3oWelNmS",
        "colab": {
          "base_uri": "https://localhost:8080/"
        },
        "outputId": "f4c1dfd3-cde9-4b8a-95e4-dfd4c32a74de"
      },
      "outputs": [
        {
          "output_type": "stream",
          "name": "stdout",
          "text": [
            "[ 1.  4.  7. 10.]\n"
          ]
        }
      ],
      "source": [
        "# np.linspace(start, stop, size)\n",
        "array_seq_size = np.linspace(1, 10, 4)\n",
        "print(array_seq_size)"
      ]
    },
    {
      "cell_type": "markdown",
      "metadata": {
        "id": "QwTIPJbNlNmT"
      },
      "source": [
        "#### Exercise 2\n",
        "Create an array with the same elements `[5, 10, 15, 20]` using two different functions: `np.linspace()` and `np.arange()`"
      ]
    },
    {
      "cell_type": "code",
      "execution_count": null,
      "metadata": {
        "id": "2OtFOhp6lNmT",
        "colab": {
          "base_uri": "https://localhost:8080/"
        },
        "outputId": "297877df-b358-4309-c0b7-bc4459c1e0aa"
      },
      "outputs": [
        {
          "output_type": "stream",
          "name": "stdout",
          "text": [
            "array_A  [ 5. 10. 15. 20.]\n",
            "array_B  [ 5 10 15 20]\n"
          ]
        }
      ],
      "source": []
    },
    {
      "cell_type": "markdown",
      "metadata": {
        "id": "B5C9mXeDlNmT"
      },
      "source": [
        "### **Multi-dimensional matrix**\n",
        "NumPy is also capable of dealing with N-dimensional data structure. Here we will introduce several ways to create an N-dimensional matrix."
      ]
    },
    {
      "cell_type": "markdown",
      "metadata": {
        "id": "MB2Un_GflNmT"
      },
      "source": [
        "Explicitly assign values to create a 2D matirx"
      ]
    },
    {
      "cell_type": "code",
      "execution_count": null,
      "metadata": {
        "id": "WHw8psb5lNmT",
        "colab": {
          "base_uri": "https://localhost:8080/"
        },
        "outputId": "39a83d5a-e607-42ce-b8b6-60bef37498b3"
      },
      "outputs": [
        {
          "output_type": "stream",
          "name": "stdout",
          "text": [
            "[[1 2 3]\n",
            " [4 5 6]]\n"
          ]
        }
      ],
      "source": [
        "A = np.array([[1, 2, 3],\n",
        "              [4, 5, 6]])\n",
        "print(A)"
      ]
    },
    {
      "cell_type": "markdown",
      "metadata": {
        "id": "AjQtgZDtlNmT"
      },
      "source": [
        "#### Shape\n",
        "In Python, `Shape` is an important component used to describe the dimension of a matrix. `Shape` in Python can be defined by a tuple, `()`.\n",
        "\n",
        "`np.shape()`: examine the matrix dimension (https://numpy.org/doc/stable/reference/generated/numpy.shape.html)"
      ]
    },
    {
      "cell_type": "code",
      "execution_count": null,
      "metadata": {
        "id": "WAufZ-9UlNmT",
        "colab": {
          "base_uri": "https://localhost:8080/"
        },
        "outputId": "a2954f7e-7cbd-4504-d934-6081aa54960f"
      },
      "outputs": [
        {
          "output_type": "stream",
          "name": "stdout",
          "text": [
            "Matrix\n",
            " [[1 2 3]\n",
            " [4 5 6]]\n",
            "\n",
            "\n",
            "Shape:  (2, 3)\n"
          ]
        }
      ],
      "source": [
        "# (row, column)\n",
        "print(\"Matrix\\n\", A)\n",
        "print(\"\\n\")\n",
        "print(\"Shape: \", A.shape)"
      ]
    },
    {
      "cell_type": "markdown",
      "metadata": {
        "id": "w5aPLVaylNmU"
      },
      "source": [
        "Create a all-zero or all-one nd-matrix by assigning the dimension (`shape`)."
      ]
    },
    {
      "cell_type": "code",
      "execution_count": null,
      "metadata": {
        "id": "08W65VWHlNmU",
        "colab": {
          "base_uri": "https://localhost:8080/"
        },
        "outputId": "62529134-d5a6-4923-bf7f-b3cc671ae6a3"
      },
      "outputs": [
        {
          "output_type": "stream",
          "name": "stdout",
          "text": [
            "B\n",
            " [[0. 0. 0.]\n",
            " [0. 0. 0.]]\n",
            "C\n",
            " [[[1. 1. 1. 1.]\n",
            "  [1. 1. 1. 1.]\n",
            "  [1. 1. 1. 1.]]\n",
            "\n",
            " [[1. 1. 1. 1.]\n",
            "  [1. 1. 1. 1.]\n",
            "  [1. 1. 1. 1.]]]\n"
          ]
        }
      ],
      "source": [
        "# shape: (row, column)\n",
        "shape = (2, 3)\n",
        "B = np.zeros(shape)\n",
        "print(\"B\\n\", B)\n",
        "\n",
        "# shape: (row, column, channel)\n",
        "C = np.ones((2, 3, 4))\n",
        "print(\"C\\n\", C)"
      ]
    },
    {
      "cell_type": "markdown",
      "metadata": {
        "id": "ZGbUJjsalNmU"
      },
      "source": [
        "In a convolutional neural network, flattening a matrix is a common approach to turn an image matrix into a regression vector.\n",
        "\n",
        "<center><img src=\"https://github.com/vt-ads/intro_to_phenomics/blob/main/res/l01/cnn.png?raw=1\" width=\"800\"/></center>\n",
        "\n",
        "<center><img src=\"https://github.com/vt-ads/intro_to_phenomics/blob/main/res/l01/flatten.png?raw=1\" width=\"800\"/></center>\n",
        "\n",
        "\n",
        "`np.reshape()`: a handy function to turn a one-dimension array to a two-dimension matrix.\n",
        "(https://numpy.org/doc/stable/reference/generated/numpy.reshape.html)\n",
        "\n",
        "`np.flatten()`: \"flatten\" the matrix back to a one-dimension array using the function (https://numpy.org/doc/stable/reference/generated/numpy.ndarray.flatten.html)\n"
      ]
    },
    {
      "cell_type": "code",
      "execution_count": null,
      "metadata": {
        "id": "-uInNhq4lNmU",
        "colab": {
          "base_uri": "https://localhost:8080/"
        },
        "outputId": "b3c35358-51f4-4b92-c385-ffa493cd8a0c"
      },
      "outputs": [
        {
          "output_type": "stream",
          "name": "stdout",
          "text": [
            "'a'\n",
            " [1 2 3 4 5 6]\n",
            "\n",
            "Reshaped 'a' (2x3)\n",
            " [[1 2 3]\n",
            " [4 5 6]]\n"
          ]
        }
      ],
      "source": [
        "# create a 1D array with 6 elements\n",
        "a = np.array([1, 2, 3, 4, 5, 6])\n",
        "print(\"'a'\\n\", a)\n",
        "\n",
        "# reshape it into a 2D array, with 2 rows and 3 columns\n",
        "a_reshape = a.reshape((2, 3))\n",
        "print(\"\\nReshaped 'a' (2x3)\\n\", a_reshape)"
      ]
    }
  ]
}