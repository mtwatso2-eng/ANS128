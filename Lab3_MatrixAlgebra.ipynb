{
  "nbformat": 4,
  "nbformat_minor": 0,
  "metadata": {
    "colab": {
      "provenance": [],
      "collapsed_sections": [
        "gNyqaCpLvlFa"
      ]
    },
    "kernelspec": {
      "name": "ir",
      "display_name": "R"
    },
    "language_info": {
      "name": "R"
    }
  },
  "cells": [
    {
      "cell_type": "markdown",
      "metadata": {
        "id": "view-in-github"
      },
      "source": [
        "<a href=\"https://colab.research.google.com/github/zhaotianjing/ASA_workshop/blob/main/2024_Mixed_Models_for_Agricultural_Science_R.ipynb\" target=\"_parent\"><img src=\"https://colab.research.google.com/assets/colab-badge.svg\" alt=\"Open In Colab\"/></a>"
      ]
    },
    {
      "cell_type": "markdown",
      "source": [
        "# 1. Basic Matrix Algebra"
      ],
      "metadata": {
        "id": "Fdcz_1r27IF0"
      }
    },
    {
      "cell_type": "markdown",
      "source": [
        "## 1.1 Notation for Scalars, Vectors, and Matrices\n"
      ],
      "metadata": {
        "id": "-WEk9m8M7PxR"
      }
    },
    {
      "cell_type": "markdown",
      "source": [
        "\n",
        "- Lowercase letters represent scalars, for example: $x$, $b$\n",
        "\n",
        "- Boldface, lowercase letters represent vectors, for example: $\\mathbf{x}$, $ \\mathbf{y}$\n",
        "\n",
        "- Boldface, uppercase letters represent matrices, for example: $ \\mathbf{X} $, $ \\mathbf{A}$"
      ],
      "metadata": {
        "id": "LAq8ZTfIBg0s"
      }
    },
    {
      "cell_type": "markdown",
      "source": [
        "## 1.2 Notation for Dimensions and Elements of a Matrix"
      ],
      "metadata": {
        "id": "yJCWw2Ra_qf_"
      }
    },
    {
      "cell_type": "markdown",
      "source": [
        "* Suppose $ \\mathbf{A} $ is a matrix with $ m $ rows and $ n $ columns. Then we say that $\\mathbf{A} $ has dimensions $ m \\times n $.\n",
        "\n",
        "* Let $ a_{ij} \\in \\mathbb{R} $ be the element or entry in the $ i $th row and $ j $th column of $ \\mathbf{A} $.\n",
        "\n",
        "* We convey all this information with the notation $ \\mathbf{A} = [a_{ij}] $."
      ],
      "metadata": {
        "id": "m1Cee6bdBkOH"
      }
    },
    {
      "cell_type": "markdown",
      "source": [
        "## 1.3 The Product of a Scalar and a Matrix\n"
      ],
      "metadata": {
        "id": "H3D9qJDO-nIj"
      }
    },
    {
      "cell_type": "markdown",
      "source": [
        "Suppose $ \\mathbf{A} = [a_{ij}] $ is a matrix of dimension $ m \\times n $. For any scalar $ c \\in \\mathbb{R} $, $$ c\\mathbf{A} = \\mathbf{A}c = [ca_{ij}] $$\n",
        "\n",
        "i.e., the product of the scalar $ c $ and the matrix $ \\mathbf{A} = [a_{ij}] $ is the matrix whose entry in the $ i $th row and $ j $th column is $ c $ times $a_{ij} $ for each $ i = 1, ..., m $ and $ j = 1, ..., n $."
      ],
      "metadata": {
        "id": "mqkSWeWR_cAE"
      }
    },
    {
      "cell_type": "code",
      "source": [
        "A = matrix(c(1, 2, 3, 4), nrow = 2, ncol = 2, byrow = TRUE) # Define a matrix A\n",
        "c = 2                                                       # Define a scalar c\n",
        "A2 = c * A                                                  # Compute the product of the scalar and the matrix\n",
        "A2                                                          # This will display the resulting matrix"
      ],
      "metadata": {
        "colab": {
          "base_uri": "https://localhost:8080/",
          "height": 166
        },
        "id": "z8yI3zrmgNNs",
        "outputId": "82fae663-3cbf-4c41-8afc-22e26cfcd17e"
      },
      "execution_count": null,
      "outputs": [
        {
          "output_type": "display_data",
          "data": {
            "text/html": [
              "<table class=\"dataframe\">\n",
              "<caption>A matrix: 2 × 2 of type dbl</caption>\n",
              "<tbody>\n",
              "\t<tr><td>2</td><td>4</td></tr>\n",
              "\t<tr><td>6</td><td>8</td></tr>\n",
              "</tbody>\n",
              "</table>\n"
            ],
            "text/markdown": "\nA matrix: 2 × 2 of type dbl\n\n| 2 | 4 |\n| 6 | 8 |\n\n",
            "text/latex": "A matrix: 2 × 2 of type dbl\n\\begin{tabular}{ll}\n\t 2 & 4\\\\\n\t 6 & 8\\\\\n\\end{tabular}\n",
            "text/plain": [
              "     [,1] [,2]\n",
              "[1,] 2    4   \n",
              "[2,] 6    8   "
            ]
          },
          "metadata": {}
        }
      ]
    },
    {
      "cell_type": "markdown",
      "source": [
        "R code:\n",
        "\n",
        "A <- matrix(c(1, 2, 3, 4), nrow = 2, ncol = 2, byrow = TRUE)  # Define a matrix A\n",
        "A\n",
        "c <- 2                                                        # Define a scalar c\n",
        "A2 <- c * A                                                   # Compute the product of the scalar and the matrix\n",
        "A2                                                            # This will display the resulting matrix\n",
        "\n",
        "A <- matrix(c(1, 2, 6, 3, 4, 9), nrow = 2, ncol = 3, byrow = TRUE)  # Define a new matrix A\n",
        "A\n",
        "\n",
        "\n",
        "B <- matrix(c(1, 3, 5, 7), nrow = 2, ncol = 2, byrow = TRUE)  # Define a matrix B\n",
        "b <- 3                                                        # Define a scalar b\n",
        "b * B                                                         # Compute the product of the scalar and the matrix\n"
      ],
      "metadata": {
        "id": "PpohD2YQwxHx"
      }
    },
    {
      "cell_type": "code",
      "source": [
        "A = matrix(c(1, 2, 3, 4, 5, 6), nrow = 2, ncol = 3, byrow = TRUE)  # Define a matrix A\n",
        "A"
      ],
      "metadata": {
        "colab": {
          "base_uri": "https://localhost:8080/",
          "height": 132
        },
        "id": "bJ5IES4yhPf2",
        "outputId": "57121c9e-1656-4fec-8602-38cc3a586fda"
      },
      "execution_count": null,
      "outputs": [
        {
          "output_type": "display_data",
          "data": {
            "text/html": [
              "<table class=\"dataframe\">\n",
              "<caption>A matrix: 2 × 3 of type dbl</caption>\n",
              "<tbody>\n",
              "\t<tr><td>1</td><td>2</td><td>3</td></tr>\n",
              "\t<tr><td>4</td><td>5</td><td>6</td></tr>\n",
              "</tbody>\n",
              "</table>\n"
            ],
            "text/markdown": "\nA matrix: 2 × 3 of type dbl\n\n| 1 | 2 | 3 |\n| 4 | 5 | 6 |\n\n",
            "text/latex": "A matrix: 2 × 3 of type dbl\n\\begin{tabular}{lll}\n\t 1 & 2 & 3\\\\\n\t 4 & 5 & 6\\\\\n\\end{tabular}\n",
            "text/plain": [
              "     [,1] [,2] [,3]\n",
              "[1,] 1    2    3   \n",
              "[2,] 4    5    6   "
            ]
          },
          "metadata": {}
        }
      ]
    },
    {
      "cell_type": "markdown",
      "source": [
        "Question:\n",
        "\n",
        "Create a 2x2 matrix $\\mathbf{B}$:\n",
        "\n",
        "$\n",
        "\\mathbf{B} = \\begin{bmatrix}\n",
        "1 & 3 \\\\\n",
        "5 & 7 \\\\\n",
        "\\end{bmatrix}\n",
        "$\n",
        "\n",
        "and a scalar $b = 3$.\n",
        "\n",
        "Write code to compute the product of the scalar $b$ and the matrix $\\mathbf{B}$.\n"
      ],
      "metadata": {
        "id": "tKwYL_yU_rdO"
      }
    },
    {
      "cell_type": "code",
      "source": [],
      "metadata": {
        "id": "Ps313BvJh-Sx",
        "colab": {
          "base_uri": "https://localhost:8080/",
          "height": 132
        },
        "outputId": "bd9dd258-486f-47b7-e124-0618e0c610e0"
      },
      "execution_count": null,
      "outputs": [
        {
          "output_type": "display_data",
          "data": {
            "text/html": [
              "<table class=\"dataframe\">\n",
              "<caption>A matrix: 2 × 2 of type dbl</caption>\n",
              "<tbody>\n",
              "\t<tr><td> 3</td><td> 9</td></tr>\n",
              "\t<tr><td>15</td><td>21</td></tr>\n",
              "</tbody>\n",
              "</table>\n"
            ],
            "text/markdown": "\nA matrix: 2 × 2 of type dbl\n\n|  3 |  9 |\n| 15 | 21 |\n\n",
            "text/latex": "A matrix: 2 × 2 of type dbl\n\\begin{tabular}{ll}\n\t  3 &  9\\\\\n\t 15 & 21\\\\\n\\end{tabular}\n",
            "text/plain": [
              "     [,1] [,2]\n",
              "[1,]  3    9  \n",
              "[2,] 15   21  "
            ]
          },
          "metadata": {}
        }
      ]
    },
    {
      "cell_type": "markdown",
      "source": [
        "## 1.4 The Sum of Two Matrices"
      ],
      "metadata": {
        "id": "jxhS9mo8BoRb"
      }
    },
    {
      "cell_type": "markdown",
      "source": [
        "Suppose $\\mathbf{A} = [a_{ij}]$ and $\\mathbf{B} = [b_{ij}] $ are matrices of dimension $m \\times n $. Then the sum of $\\mathbf{A} $ and $ \\mathbf{B} $ is another matrix $\\mathbf{C} = [c_{ij}] $ of the same dimension, where:\n",
        "\n",
        "$$ \\mathbf{C} = \\mathbf{A} + \\mathbf{B} = [a_{ij} + b_{ij}] $$\n",
        "\n",
        "i.e., the entry in the $i$th row and $j$th column of $\\mathbf{C} $ is the sum of the entry in the $i$th row and $j$th column of $\\mathbf{A}$ and the entry in the $i$th row and $j$th column of $\\mathbf{B}$."
      ],
      "metadata": {
        "id": "71MfnvRE_cDp"
      }
    },
    {
      "cell_type": "code",
      "source": [
        "A = matrix(c(1, 2, 3, 4), nrow = 2, ncol = 2, byrow = TRUE) # Define a matrix A\n",
        "B = matrix(c(5, 6, 7, 8), nrow = 2, ncol = 2, byrow = TRUE) # Define a matrix B\n",
        "C = A + B # Compute the sum of the two matrices\n",
        "C # This will display the resulting matrix"
      ],
      "metadata": {
        "colab": {
          "base_uri": "https://localhost:8080/",
          "height": 132
        },
        "id": "u_mmIQe-CSN2",
        "outputId": "364577fd-d377-461b-8726-ac472d5c3d95"
      },
      "execution_count": null,
      "outputs": [
        {
          "output_type": "display_data",
          "data": {
            "text/html": [
              "<table class=\"dataframe\">\n",
              "<caption>A matrix: 2 × 2 of type dbl</caption>\n",
              "<tbody>\n",
              "\t<tr><td> 6</td><td> 8</td></tr>\n",
              "\t<tr><td>10</td><td>12</td></tr>\n",
              "</tbody>\n",
              "</table>\n"
            ],
            "text/markdown": "\nA matrix: 2 × 2 of type dbl\n\n|  6 |  8 |\n| 10 | 12 |\n\n",
            "text/latex": "A matrix: 2 × 2 of type dbl\n\\begin{tabular}{ll}\n\t  6 &  8\\\\\n\t 10 & 12\\\\\n\\end{tabular}\n",
            "text/plain": [
              "     [,1] [,2]\n",
              "[1,]  6    8  \n",
              "[2,] 10   12  "
            ]
          },
          "metadata": {}
        }
      ]
    },
    {
      "cell_type": "markdown",
      "source": [
        "Question:\n",
        "\n",
        "Create two 2x3 matrices $\\mathbf{A}$ and $\\mathbf{B}$:\n",
        "\n",
        "$\n",
        "\\mathbf{A} = \\begin{bmatrix}\n",
        "1 & 2 & 3\\\\\n",
        "4 & 5 & 6 \\\\\n",
        "\\end{bmatrix}\n",
        "$\n",
        "\n",
        "$\n",
        "\\mathbf{B} = \\begin{bmatrix}\n",
        "1 & 1 & 1 \\\\\n",
        "2 & 2 & 2 \\\\\n",
        "\\end{bmatrix}\n",
        "$\n",
        "\n",
        "Write code to compute the sum of the matrices $\\mathbf{A}$ and $\\mathbf{B}$."
      ],
      "metadata": {
        "id": "SrW7OH6gATP-"
      }
    },
    {
      "cell_type": "code",
      "source": [],
      "metadata": {
        "colab": {
          "base_uri": "https://localhost:8080/",
          "height": 132
        },
        "id": "Z1e-uuvWiyCi",
        "outputId": "1d06ad06-b190-4488-d3a9-d9dd0b80decb"
      },
      "execution_count": null,
      "outputs": [
        {
          "output_type": "display_data",
          "data": {
            "text/html": [
              "<table class=\"dataframe\">\n",
              "<caption>A matrix: 2 × 3 of type dbl</caption>\n",
              "<tbody>\n",
              "\t<tr><td>2</td><td>3</td><td>4</td></tr>\n",
              "\t<tr><td>6</td><td>7</td><td>8</td></tr>\n",
              "</tbody>\n",
              "</table>\n"
            ],
            "text/markdown": "\nA matrix: 2 × 3 of type dbl\n\n| 2 | 3 | 4 |\n| 6 | 7 | 8 |\n\n",
            "text/latex": "A matrix: 2 × 3 of type dbl\n\\begin{tabular}{lll}\n\t 2 & 3 & 4\\\\\n\t 6 & 7 & 8\\\\\n\\end{tabular}\n",
            "text/plain": [
              "     [,1] [,2] [,3]\n",
              "[1,] 2    3    4   \n",
              "[2,] 6    7    8   "
            ]
          },
          "metadata": {}
        }
      ]
    },
    {
      "cell_type": "markdown",
      "metadata": {
        "id": "14eb46f8"
      },
      "source": [
        "## 1.5 Vector and Vector Transpose"
      ]
    },
    {
      "cell_type": "markdown",
      "metadata": {
        "id": "505bef8e"
      },
      "source": [
        "A vector is a matrix with one column, denoted as:\n",
        "\n",
        "$$ \\mathbf{x} = \\begin{bmatrix} x_1 \\\\ x_2 \\\\ \\vdots \\\\ x_n \\end{bmatrix} $$\n",
        "\n",
        "The transpose of a vector $ \\mathbf{x} $ is a matrix with one row, denoted as:\n",
        "\n",
        "$$ \\mathbf{x}^T = [x_1, x_2, \\dots, x_n] $$\n",
        "\n",
        "i.e., $\\mathbf{x}$ is a matrix with one column and $\\mathbf{x}^T$ is the matrix with the same entries as $\\mathbf{x}$ but written as a row rather than a column."
      ]
    },
    {
      "cell_type": "code",
      "execution_count": null,
      "metadata": {
        "id": "ae0f28d7",
        "colab": {
          "base_uri": "https://localhost:8080/",
          "height": 34
        },
        "outputId": "b0a8686a-2719-4f00-b936-4f27b46f394c"
      },
      "outputs": [
        {
          "output_type": "display_data",
          "data": {
            "text/html": [
              "<style>\n",
              ".list-inline {list-style: none; margin:0; padding: 0}\n",
              ".list-inline>li {display: inline-block}\n",
              ".list-inline>li:not(:last-child)::after {content: \"\\00b7\"; padding: 0 .5ex}\n",
              "</style>\n",
              "<ol class=list-inline><li>3</li><li>1</li></ol>\n"
            ],
            "text/markdown": "1. 3\n2. 1\n\n\n",
            "text/latex": "\\begin{enumerate*}\n\\item 3\n\\item 1\n\\end{enumerate*}\n",
            "text/plain": [
              "[1] 3 1"
            ]
          },
          "metadata": {}
        }
      ],
      "source": [
        "x = matrix(c(1, 2, 3), nrow = 3, ncol = 1) # Define a column vector x\n",
        "dim(x)  # This will display the dimensions of x"
      ]
    },
    {
      "cell_type": "code",
      "source": [
        "x_T = t(x) # Compute the transpose of the vector x\n",
        "x_T # This will display the vector and its transpose"
      ],
      "metadata": {
        "colab": {
          "base_uri": "https://localhost:8080/",
          "height": 100
        },
        "id": "U626LkR2jY6W",
        "outputId": "1b4ca0ff-4afd-46d3-bc9f-4fa50b3e0777"
      },
      "execution_count": null,
      "outputs": [
        {
          "output_type": "display_data",
          "data": {
            "text/html": [
              "<table class=\"dataframe\">\n",
              "<caption>A matrix: 1 × 3 of type dbl</caption>\n",
              "<tbody>\n",
              "\t<tr><td>1</td><td>2</td><td>3</td></tr>\n",
              "</tbody>\n",
              "</table>\n"
            ],
            "text/markdown": "\nA matrix: 1 × 3 of type dbl\n\n| 1 | 2 | 3 |\n\n",
            "text/latex": "A matrix: 1 × 3 of type dbl\n\\begin{tabular}{lll}\n\t 1 & 2 & 3\\\\\n\\end{tabular}\n",
            "text/plain": [
              "     [,1] [,2] [,3]\n",
              "[1,] 1    2    3   "
            ]
          },
          "metadata": {}
        }
      ]
    },
    {
      "cell_type": "code",
      "source": [
        "dim(x_T)"
      ],
      "metadata": {
        "colab": {
          "base_uri": "https://localhost:8080/",
          "height": 34
        },
        "id": "Y3bSZEWNBt8g",
        "outputId": "b539b094-437f-40f2-98a8-47e1e5b9a510"
      },
      "execution_count": null,
      "outputs": [
        {
          "output_type": "display_data",
          "data": {
            "text/html": [
              "<style>\n",
              ".list-inline {list-style: none; margin:0; padding: 0}\n",
              ".list-inline>li {display: inline-block}\n",
              ".list-inline>li:not(:last-child)::after {content: \"\\00b7\"; padding: 0 .5ex}\n",
              "</style>\n",
              "<ol class=list-inline><li>1</li><li>3</li></ol>\n"
            ],
            "text/markdown": "1. 1\n2. 3\n\n\n",
            "text/latex": "\\begin{enumerate*}\n\\item 1\n\\item 3\n\\end{enumerate*}\n",
            "text/plain": [
              "[1] 1 3"
            ]
          },
          "metadata": {}
        }
      ]
    },
    {
      "cell_type": "markdown",
      "source": [
        " Question:\n",
        "\n",
        "Given a 1x3 row vector **y**:\n",
        "\n",
        "$\n",
        "\\mathbf{y} = \\begin{bmatrix}\n",
        "1 & 2 & 3\n",
        "\\end{bmatrix}\n",
        "$\n",
        "\n",
        "Write code to compute the transpose of the vector **y**.\n"
      ],
      "metadata": {
        "id": "To_tuv4HBJ3_"
      }
    },
    {
      "cell_type": "code",
      "source": [],
      "metadata": {
        "colab": {
          "base_uri": "https://localhost:8080/",
          "height": 100
        },
        "id": "OP883mstBlmB",
        "outputId": "305b8d54-2e9a-46ab-ba39-235bac8f508b"
      },
      "execution_count": null,
      "outputs": [
        {
          "output_type": "display_data",
          "data": {
            "text/html": [
              "<table class=\"dataframe\">\n",
              "<caption>A matrix: 1 × 3 of type dbl</caption>\n",
              "<tbody>\n",
              "\t<tr><td>1</td><td>2</td><td>3</td></tr>\n",
              "</tbody>\n",
              "</table>\n"
            ],
            "text/markdown": "\nA matrix: 1 × 3 of type dbl\n\n| 1 | 2 | 3 |\n\n",
            "text/latex": "A matrix: 1 × 3 of type dbl\n\\begin{tabular}{lll}\n\t 1 & 2 & 3\\\\\n\\end{tabular}\n",
            "text/plain": [
              "     [,1] [,2] [,3]\n",
              "[1,] 1    2    3   "
            ]
          },
          "metadata": {}
        }
      ]
    },
    {
      "cell_type": "code",
      "source": [
        "dim(y)"
      ],
      "metadata": {
        "colab": {
          "base_uri": "https://localhost:8080/",
          "height": 34
        },
        "id": "5xgZ98ZHBz7N",
        "outputId": "57f40d7d-c72c-49d1-ab31-7ef1e637f0d5"
      },
      "execution_count": null,
      "outputs": [
        {
          "output_type": "display_data",
          "data": {
            "text/html": [
              "<style>\n",
              ".list-inline {list-style: none; margin:0; padding: 0}\n",
              ".list-inline>li {display: inline-block}\n",
              ".list-inline>li:not(:last-child)::after {content: \"\\00b7\"; padding: 0 .5ex}\n",
              "</style>\n",
              "<ol class=list-inline><li>1</li><li>3</li></ol>\n"
            ],
            "text/markdown": "1. 1\n2. 3\n\n\n",
            "text/latex": "\\begin{enumerate*}\n\\item 1\n\\item 3\n\\end{enumerate*}\n",
            "text/plain": [
              "[1] 1 3"
            ]
          },
          "metadata": {}
        }
      ]
    },
    {
      "cell_type": "code",
      "source": [
        "t(y)"
      ],
      "metadata": {
        "colab": {
          "base_uri": "https://localhost:8080/",
          "height": 215
        },
        "id": "_uESem8Njhzt",
        "outputId": "e9a69853-e4c8-4226-9519-b480ba110b72"
      },
      "execution_count": null,
      "outputs": [
        {
          "output_type": "display_data",
          "data": {
            "text/html": [
              "<table class=\"dataframe\">\n",
              "<caption>A matrix: 3 × 1 of type dbl</caption>\n",
              "<tbody>\n",
              "\t<tr><td>1</td></tr>\n",
              "\t<tr><td>2</td></tr>\n",
              "\t<tr><td>3</td></tr>\n",
              "</tbody>\n",
              "</table>\n"
            ],
            "text/markdown": "\nA matrix: 3 × 1 of type dbl\n\n| 1 |\n| 2 |\n| 3 |\n\n",
            "text/latex": "A matrix: 3 × 1 of type dbl\n\\begin{tabular}{l}\n\t 1\\\\\n\t 2\\\\\n\t 3\\\\\n\\end{tabular}\n",
            "text/plain": [
              "     [,1]\n",
              "[1,] 1   \n",
              "[2,] 2   \n",
              "[3,] 3   "
            ]
          },
          "metadata": {}
        }
      ]
    },
    {
      "cell_type": "markdown",
      "metadata": {
        "id": "a28d266a"
      },
      "source": [
        "## 1.6 Transpose of a Matrix"
      ]
    },
    {
      "cell_type": "markdown",
      "metadata": {
        "id": "fde4f4df"
      },
      "source": [
        "Suppose $\\mathbf{A}$ is an $m \\times n $ matrix. Then the transpose of the matrix $\\mathbf{A}$, denoted as $\\mathbf{A}^T$, is obtained by interchanging the rows and columns of $\\mathbf{A}$.\n",
        "\n",
        "If we write $ \\mathbf{A} = [\\mathbf{a}_1; ...; \\mathbf{a}_n]$, where $\\mathbf{a}_i $ is the $i$th column of $\\mathbf{A}$ for each $i = 1, ..., n $, then:\n",
        "\n",
        "$$ \\mathbf{A}^T = \\begin{bmatrix} \\mathbf{a}_1^T \\\\ ... \\\\ \\mathbf{a}_n^T \\end{bmatrix} $$"
      ]
    },
    {
      "cell_type": "code",
      "execution_count": null,
      "metadata": {
        "id": "6addd822",
        "colab": {
          "base_uri": "https://localhost:8080/"
        },
        "outputId": "a582e654-c882-4155-c786-1bc33e36cf1e"
      },
      "outputs": [
        {
          "output_type": "stream",
          "name": "stdout",
          "text": [
            "     [,1] [,2]\n",
            "[1,]    1    2\n",
            "[2,]    3    4\n",
            "[3,]    5    6\n",
            "     [,1] [,2] [,3]\n",
            "[1,]    1    3    5\n",
            "[2,]    2    4    6\n"
          ]
        }
      ],
      "source": [
        "A = matrix(c(1, 2, 3, 4, 5, 6), nrow = 3, ncol = 2, byrow = TRUE) # Define a matrix A\n",
        "A_T = t(A)  # Compute the transpose of the matrix A\n",
        "print(A)\n",
        "print(A_T)  # This will display the matrix and its transpose"
      ]
    },
    {
      "cell_type": "markdown",
      "source": [
        "Question:\n",
        "\n",
        "Create a 2x4 matrix **B**:\n",
        "\n",
        "$\n",
        "\\mathbf{B} = \\begin{bmatrix}\n",
        "1 & 2 & 3 & 4\\\\\n",
        "5 & 6 & 7 & 8\\\\\n",
        "\\end{bmatrix}\n",
        "$\n",
        "\n",
        "Write code to compute the transpose of the matrix.\n"
      ],
      "metadata": {
        "id": "seejVwkrCELG"
      }
    },
    {
      "cell_type": "code",
      "source": [],
      "metadata": {
        "colab": {
          "base_uri": "https://localhost:8080/",
          "height": 114
        },
        "id": "Dizc6isvj-84",
        "outputId": "6d644bb4-c6ff-4306-f329-70d6fa7b188c"
      },
      "execution_count": null,
      "outputs": [
        {
          "output_type": "display_data",
          "data": {
            "text/html": [
              "<table class=\"dataframe\">\n",
              "<caption>A matrix: 2 × 4 of type dbl</caption>\n",
              "<tbody>\n",
              "\t<tr><td>1</td><td>2</td><td>3</td><td>4</td></tr>\n",
              "\t<tr><td>5</td><td>6</td><td>7</td><td>8</td></tr>\n",
              "</tbody>\n",
              "</table>\n"
            ],
            "text/markdown": "\nA matrix: 2 × 4 of type dbl\n\n| 1 | 2 | 3 | 4 |\n| 5 | 6 | 7 | 8 |\n\n",
            "text/latex": "A matrix: 2 × 4 of type dbl\n\\begin{tabular}{llll}\n\t 1 & 2 & 3 & 4\\\\\n\t 5 & 6 & 7 & 8\\\\\n\\end{tabular}\n",
            "text/plain": [
              "     [,1] [,2] [,3] [,4]\n",
              "[1,] 1    2    3    4   \n",
              "[2,] 5    6    7    8   "
            ]
          },
          "metadata": {}
        }
      ]
    },
    {
      "cell_type": "code",
      "source": [
        "dim(B) # This will display the dimensions of B"
      ],
      "metadata": {
        "colab": {
          "base_uri": "https://localhost:8080/",
          "height": 34
        },
        "id": "VnI3h81-kG7F",
        "outputId": "64298552-70a7-4bda-8664-632db38c8422"
      },
      "execution_count": null,
      "outputs": [
        {
          "output_type": "display_data",
          "data": {
            "text/html": [
              "<style>\n",
              ".list-inline {list-style: none; margin:0; padding: 0}\n",
              ".list-inline>li {display: inline-block}\n",
              ".list-inline>li:not(:last-child)::after {content: \"\\00b7\"; padding: 0 .5ex}\n",
              "</style>\n",
              "<ol class=list-inline><li>2</li><li>4</li></ol>\n"
            ],
            "text/markdown": "1. 2\n2. 4\n\n\n",
            "text/latex": "\\begin{enumerate*}\n\\item 2\n\\item 4\n\\end{enumerate*}\n",
            "text/plain": [
              "[1] 2 4"
            ]
          },
          "metadata": {}
        }
      ]
    },
    {
      "cell_type": "code",
      "source": [
        "t(B) # Compute and display the transpose of B"
      ],
      "metadata": {
        "colab": {
          "base_uri": "https://localhost:8080/",
          "height": 229
        },
        "id": "KoY0EgWHkHB6",
        "outputId": "03d17894-85da-4bc3-c8f8-9027fd135902"
      },
      "execution_count": null,
      "outputs": [
        {
          "output_type": "display_data",
          "data": {
            "text/html": [
              "<table class=\"dataframe\">\n",
              "<caption>A matrix: 4 × 2 of type dbl</caption>\n",
              "<tbody>\n",
              "\t<tr><td>1</td><td>5</td></tr>\n",
              "\t<tr><td>2</td><td>6</td></tr>\n",
              "\t<tr><td>3</td><td>7</td></tr>\n",
              "\t<tr><td>4</td><td>8</td></tr>\n",
              "</tbody>\n",
              "</table>\n"
            ],
            "text/markdown": "\nA matrix: 4 × 2 of type dbl\n\n| 1 | 5 |\n| 2 | 6 |\n| 3 | 7 |\n| 4 | 8 |\n\n",
            "text/latex": "A matrix: 4 × 2 of type dbl\n\\begin{tabular}{ll}\n\t 1 & 5\\\\\n\t 2 & 6\\\\\n\t 3 & 7\\\\\n\t 4 & 8\\\\\n\\end{tabular}\n",
            "text/plain": [
              "     [,1] [,2]\n",
              "[1,] 1    5   \n",
              "[2,] 2    6   \n",
              "[3,] 3    7   \n",
              "[4,] 4    8   "
            ]
          },
          "metadata": {}
        }
      ]
    },
    {
      "cell_type": "markdown",
      "metadata": {
        "id": "6ea6bc81"
      },
      "source": [
        "## 1.7 Matrix Multiplication"
      ]
    },
    {
      "cell_type": "markdown",
      "metadata": {
        "id": "2bc8fed9"
      },
      "source": [
        "Suppose $\\mathbf{A} = [a_{ij}]$ is an $m \\times n$ matrix and $\\mathbf{B} = [b_{ij}]$ is an $n \\times k$ matrix.\n",
        "\n",
        "Then the matrix product $\\mathbf{AB}$, denoted as $ \\mathbf{C} = [c_{ij}]$, is an $m \\times k$ matrix where:\n",
        "\n",
        "$$ c_{ij} = \\sum_{l=1}^{n} a_{il} b_{lj} $$"
      ]
    },
    {
      "cell_type": "markdown",
      "metadata": {
        "id": "ab94d35e"
      },
      "source": [
        "i.e., each element $c_{ij}$ of the matrix $\\mathbf{C}$ is computed as the sum of the product of corresponding elements from the $i$th row of $\\mathbf{A}$ and the $j$th column of $\\mathbf{B}$."
      ]
    },
    {
      "cell_type": "code",
      "execution_count": null,
      "metadata": {
        "id": "6c31c158",
        "colab": {
          "base_uri": "https://localhost:8080/",
          "height": 347
        },
        "outputId": "b4ec4999-9329-4e22-ecb3-1adb8d30a4d2"
      },
      "outputs": [
        {
          "output_type": "display_data",
          "data": {
            "text/html": [
              "<table class=\"dataframe\">\n",
              "<caption>A matrix: 3 × 2 of type dbl</caption>\n",
              "<tbody>\n",
              "\t<tr><td>1</td><td>2</td></tr>\n",
              "\t<tr><td>3</td><td>4</td></tr>\n",
              "\t<tr><td>5</td><td>6</td></tr>\n",
              "</tbody>\n",
              "</table>\n"
            ],
            "text/markdown": "\nA matrix: 3 × 2 of type dbl\n\n| 1 | 2 |\n| 3 | 4 |\n| 5 | 6 |\n\n",
            "text/latex": "A matrix: 3 × 2 of type dbl\n\\begin{tabular}{ll}\n\t 1 & 2\\\\\n\t 3 & 4\\\\\n\t 5 & 6\\\\\n\\end{tabular}\n",
            "text/plain": [
              "     [,1] [,2]\n",
              "[1,] 1    2   \n",
              "[2,] 3    4   \n",
              "[3,] 5    6   "
            ]
          },
          "metadata": {}
        },
        {
          "output_type": "display_data",
          "data": {
            "text/html": [
              "<table class=\"dataframe\">\n",
              "<caption>A matrix: 2 × 2 of type dbl</caption>\n",
              "<tbody>\n",
              "\t<tr><td>2</td><td>3</td></tr>\n",
              "\t<tr><td>4</td><td>5</td></tr>\n",
              "</tbody>\n",
              "</table>\n"
            ],
            "text/markdown": "\nA matrix: 2 × 2 of type dbl\n\n| 2 | 3 |\n| 4 | 5 |\n\n",
            "text/latex": "A matrix: 2 × 2 of type dbl\n\\begin{tabular}{ll}\n\t 2 & 3\\\\\n\t 4 & 5\\\\\n\\end{tabular}\n",
            "text/plain": [
              "     [,1] [,2]\n",
              "[1,] 2    3   \n",
              "[2,] 4    5   "
            ]
          },
          "metadata": {}
        }
      ],
      "source": [
        "A = matrix(c(1, 2, 3, 4, 5, 6), nrow = 3, ncol = 2, byrow = TRUE)# Define a matrix A\n",
        "B = matrix(c(2, 3, 4, 5), nrow = 2, ncol = , byrow = TRUE) # Define a matrix B\n",
        "A\n",
        "B"
      ]
    },
    {
      "cell_type": "code",
      "execution_count": null,
      "metadata": {
        "id": "7858660b",
        "colab": {
          "base_uri": "https://localhost:8080/",
          "height": 163
        },
        "outputId": "9acb8204-24f6-467d-85cc-7a9d5da1e48e"
      },
      "outputs": [
        {
          "output_type": "display_data",
          "data": {
            "text/html": [
              "<table class=\"dataframe\">\n",
              "<caption>A matrix: 3 × 2 of type dbl</caption>\n",
              "<tbody>\n",
              "\t<tr><td>10</td><td>13</td></tr>\n",
              "\t<tr><td>22</td><td>29</td></tr>\n",
              "\t<tr><td>34</td><td>45</td></tr>\n",
              "</tbody>\n",
              "</table>\n"
            ],
            "text/markdown": "\nA matrix: 3 × 2 of type dbl\n\n| 10 | 13 |\n| 22 | 29 |\n| 34 | 45 |\n\n",
            "text/latex": "A matrix: 3 × 2 of type dbl\n\\begin{tabular}{ll}\n\t 10 & 13\\\\\n\t 22 & 29\\\\\n\t 34 & 45\\\\\n\\end{tabular}\n",
            "text/plain": [
              "     [,1] [,2]\n",
              "[1,] 10   13  \n",
              "[2,] 22   29  \n",
              "[3,] 34   45  "
            ]
          },
          "metadata": {}
        }
      ],
      "source": [
        "C = A %*% B  # Compute the matrix product AB\n",
        "C  # This will display the resulting matrix"
      ]
    },
    {
      "cell_type": "markdown",
      "source": [
        "Question:\n",
        "\n",
        "Given a 2x3 matrix **A**:\n",
        "\n",
        "$\n",
        "\\mathbf{A} = \\begin{bmatrix}\n",
        "1 & 2 & 3 \\\\\n",
        "4 & 5 & 6 \\\\\n",
        "\\end{bmatrix}\n",
        "$\n",
        "\n",
        "and a 3x1 matrix **B**:\n",
        "\n",
        "$\n",
        "\\mathbf{B} = \\begin{bmatrix}\n",
        "2 \\\\\n",
        "3 \\\\\n",
        "4 \\\\\n",
        "\\end{bmatrix}\n",
        "$\n",
        "\n",
        "Write a code to compute the matrix product of **A** and **B**.\n"
      ],
      "metadata": {
        "id": "ZWfN3bBpC2F8"
      }
    },
    {
      "cell_type": "code",
      "source": [],
      "metadata": {
        "colab": {
          "base_uri": "https://localhost:8080/",
          "height": 330
        },
        "id": "VaaAgj0IDMhX",
        "outputId": "b196a639-9745-4fcb-c557-fa5550f0c342"
      },
      "execution_count": null,
      "outputs": [
        {
          "output_type": "display_data",
          "data": {
            "text/html": [
              "<table class=\"dataframe\">\n",
              "<caption>A matrix: 2 × 3 of type dbl</caption>\n",
              "<tbody>\n",
              "\t<tr><td>1</td><td>2</td><td>3</td></tr>\n",
              "\t<tr><td>4</td><td>5</td><td>6</td></tr>\n",
              "</tbody>\n",
              "</table>\n"
            ],
            "text/markdown": "\nA matrix: 2 × 3 of type dbl\n\n| 1 | 2 | 3 |\n| 4 | 5 | 6 |\n\n",
            "text/latex": "A matrix: 2 × 3 of type dbl\n\\begin{tabular}{lll}\n\t 1 & 2 & 3\\\\\n\t 4 & 5 & 6\\\\\n\\end{tabular}\n",
            "text/plain": [
              "     [,1] [,2] [,3]\n",
              "[1,] 1    2    3   \n",
              "[2,] 4    5    6   "
            ]
          },
          "metadata": {}
        },
        {
          "output_type": "display_data",
          "data": {
            "text/html": [
              "<table class=\"dataframe\">\n",
              "<caption>A matrix: 3 × 1 of type dbl</caption>\n",
              "<tbody>\n",
              "\t<tr><td>2</td></tr>\n",
              "\t<tr><td>3</td></tr>\n",
              "\t<tr><td>4</td></tr>\n",
              "</tbody>\n",
              "</table>\n"
            ],
            "text/markdown": "\nA matrix: 3 × 1 of type dbl\n\n| 2 |\n| 3 |\n| 4 |\n\n",
            "text/latex": "A matrix: 3 × 1 of type dbl\n\\begin{tabular}{l}\n\t 2\\\\\n\t 3\\\\\n\t 4\\\\\n\\end{tabular}\n",
            "text/plain": [
              "     [,1]\n",
              "[1,] 2   \n",
              "[2,] 3   \n",
              "[3,] 4   "
            ]
          },
          "metadata": {}
        }
      ]
    },
    {
      "cell_type": "code",
      "source": [
        "A %*% B"
      ],
      "metadata": {
        "colab": {
          "base_uri": "https://localhost:8080/",
          "height": 184
        },
        "id": "1VKfpsHekuYa",
        "outputId": "fd418f42-3c65-4435-d775-0bb608f74cb4"
      },
      "execution_count": null,
      "outputs": [
        {
          "output_type": "display_data",
          "data": {
            "text/html": [
              "<table class=\"dataframe\">\n",
              "<caption>A matrix: 2 × 1 of type dbl</caption>\n",
              "<tbody>\n",
              "\t<tr><td>20</td></tr>\n",
              "\t<tr><td>47</td></tr>\n",
              "</tbody>\n",
              "</table>\n"
            ],
            "text/markdown": "\nA matrix: 2 × 1 of type dbl\n\n| 20 |\n| 47 |\n\n",
            "text/latex": "A matrix: 2 × 1 of type dbl\n\\begin{tabular}{l}\n\t 20\\\\\n\t 47\\\\\n\\end{tabular}\n",
            "text/plain": [
              "     [,1]\n",
              "[1,] 20  \n",
              "[2,] 47  "
            ]
          },
          "metadata": {}
        }
      ]
    },
    {
      "cell_type": "markdown",
      "source": [
        "## 1.8 Transpose of a Matrix Product\n",
        "\n"
      ],
      "metadata": {
        "id": "a1mw2bU_fknw"
      }
    },
    {
      "cell_type": "markdown",
      "source": [
        "The transpose of a matrix product is a product of the transposes\n",
        "in reverse order; i.e., $(\\mathbf{AB})^T = \\mathbf{B}^T \\mathbf{A}^T$."
      ],
      "metadata": {
        "id": "1SYq-oSigW3Z"
      }
    },
    {
      "cell_type": "markdown",
      "source": [
        "Question: write code to verify $(\\mathbf{AB})^T = \\mathbf{B}^T \\mathbf{A}^T$"
      ],
      "metadata": {
        "id": "OOYw6RarFW4z"
      }
    },
    {
      "cell_type": "code",
      "source": [],
      "metadata": {
        "id": "dw_Kc17rlAzt",
        "colab": {
          "base_uri": "https://localhost:8080/",
          "height": 330
        },
        "outputId": "c3d54085-9b3d-4701-9c76-5b6204f2912c"
      },
      "execution_count": null,
      "outputs": [
        {
          "output_type": "display_data",
          "data": {
            "text/html": [
              "<table class=\"dataframe\">\n",
              "<caption>A matrix: 2 × 3 of type dbl</caption>\n",
              "<tbody>\n",
              "\t<tr><td>1</td><td>2</td><td>3</td></tr>\n",
              "\t<tr><td>4</td><td>5</td><td>6</td></tr>\n",
              "</tbody>\n",
              "</table>\n"
            ],
            "text/markdown": "\nA matrix: 2 × 3 of type dbl\n\n| 1 | 2 | 3 |\n| 4 | 5 | 6 |\n\n",
            "text/latex": "A matrix: 2 × 3 of type dbl\n\\begin{tabular}{lll}\n\t 1 & 2 & 3\\\\\n\t 4 & 5 & 6\\\\\n\\end{tabular}\n",
            "text/plain": [
              "     [,1] [,2] [,3]\n",
              "[1,] 1    2    3   \n",
              "[2,] 4    5    6   "
            ]
          },
          "metadata": {}
        },
        {
          "output_type": "display_data",
          "data": {
            "text/html": [
              "<table class=\"dataframe\">\n",
              "<caption>A matrix: 3 × 1 of type dbl</caption>\n",
              "<tbody>\n",
              "\t<tr><td>2</td></tr>\n",
              "\t<tr><td>3</td></tr>\n",
              "\t<tr><td>4</td></tr>\n",
              "</tbody>\n",
              "</table>\n"
            ],
            "text/markdown": "\nA matrix: 3 × 1 of type dbl\n\n| 2 |\n| 3 |\n| 4 |\n\n",
            "text/latex": "A matrix: 3 × 1 of type dbl\n\\begin{tabular}{l}\n\t 2\\\\\n\t 3\\\\\n\t 4\\\\\n\\end{tabular}\n",
            "text/plain": [
              "     [,1]\n",
              "[1,] 2   \n",
              "[2,] 3   \n",
              "[3,] 4   "
            ]
          },
          "metadata": {}
        }
      ]
    },
    {
      "cell_type": "code",
      "source": [
        " t(A %*% B)"
      ],
      "metadata": {
        "colab": {
          "base_uri": "https://localhost:8080/",
          "height": 100
        },
        "id": "FoV8RQQLlCwA",
        "outputId": "86edb2c6-b29d-4c16-ec7c-b6eb8586c851"
      },
      "execution_count": null,
      "outputs": [
        {
          "output_type": "display_data",
          "data": {
            "text/html": [
              "<table class=\"dataframe\">\n",
              "<caption>A matrix: 1 × 2 of type dbl</caption>\n",
              "<tbody>\n",
              "\t<tr><td>20</td><td>47</td></tr>\n",
              "</tbody>\n",
              "</table>\n"
            ],
            "text/markdown": "\nA matrix: 1 × 2 of type dbl\n\n| 20 | 47 |\n\n",
            "text/latex": "A matrix: 1 × 2 of type dbl\n\\begin{tabular}{ll}\n\t 20 & 47\\\\\n\\end{tabular}\n",
            "text/plain": [
              "     [,1] [,2]\n",
              "[1,] 20   47  "
            ]
          },
          "metadata": {}
        }
      ]
    },
    {
      "cell_type": "code",
      "source": [
        "t(B) %*% t(A)"
      ],
      "metadata": {
        "colab": {
          "base_uri": "https://localhost:8080/",
          "height": 100
        },
        "id": "5qiSOIyhlFUM",
        "outputId": "7cffab66-0ada-47d3-e05d-98a7df4edb08"
      },
      "execution_count": null,
      "outputs": [
        {
          "output_type": "display_data",
          "data": {
            "text/html": [
              "<table class=\"dataframe\">\n",
              "<caption>A matrix: 1 × 2 of type dbl</caption>\n",
              "<tbody>\n",
              "\t<tr><td>20</td><td>47</td></tr>\n",
              "</tbody>\n",
              "</table>\n"
            ],
            "text/markdown": "\nA matrix: 1 × 2 of type dbl\n\n| 20 | 47 |\n\n",
            "text/latex": "A matrix: 1 × 2 of type dbl\n\\begin{tabular}{ll}\n\t 20 & 47\\\\\n\\end{tabular}\n",
            "text/plain": [
              "     [,1] [,2]\n",
              "[1,] 20   47  "
            ]
          },
          "metadata": {}
        }
      ]
    },
    {
      "cell_type": "markdown",
      "source": [
        "## 1.9 Zero and One Vectors and the Identity Matrix"
      ],
      "metadata": {
        "id": "H6xEUpdZhES0"
      }
    },
    {
      "cell_type": "markdown",
      "source": [
        "- Zero Vector, $\\mathbf{0} $:\n",
        "  $$\\mathbf{0} = \\begin{bmatrix} 0 \\\\ 0 \\\\ \\vdots \\\\ 0 \\end{bmatrix} $$\n",
        "  $\\mathbf{0}$ is also used to denote a matrix whose entries are all zero.\n",
        "- One Vector, $\\mathbf{1}$:\n",
        "  $$\\mathbf{1} = \\begin{bmatrix} 1 \\\\ 1 \\\\ \\vdots \\\\ 1 \\end{bmatrix} $$\n",
        "- Identity Matrix, $\\mathbf{I}$:\n",
        "  $$ I = \\begin{bmatrix} 1 & 0 & 0 & \\dots & 0 \\\\ 0 & 1 & 0 & \\dots & 0 \\\\ 0 & 0 & 1 & \\dots & 0 \\\\ \\vdots & \\vdots & \\vdots & \\ddots & \\vdots \\\\ 0 & 0 & 0 & \\dots & 1 \\end{bmatrix} $$\n",
        "\n",
        "\n"
      ],
      "metadata": {
        "id": "-QRWsDI3hKUI"
      }
    },
    {
      "cell_type": "code",
      "source": [
        "# Creating Zero Vector\n",
        "zero_vector = numeric(5) #or rep(0, 5)\n",
        "zero_vector"
      ],
      "metadata": {
        "colab": {
          "base_uri": "https://localhost:8080/",
          "height": 34
        },
        "id": "crqCW3Yejlfb",
        "outputId": "7a2809c7-40b8-4a19-b521-b938b955c308"
      },
      "execution_count": null,
      "outputs": [
        {
          "output_type": "display_data",
          "data": {
            "text/html": [
              "<style>\n",
              ".list-inline {list-style: none; margin:0; padding: 0}\n",
              ".list-inline>li {display: inline-block}\n",
              ".list-inline>li:not(:last-child)::after {content: \"\\00b7\"; padding: 0 .5ex}\n",
              "</style>\n",
              "<ol class=list-inline><li>0</li><li>0</li><li>0</li><li>0</li><li>0</li></ol>\n"
            ],
            "text/markdown": "1. 0\n2. 0\n3. 0\n4. 0\n5. 0\n\n\n",
            "text/latex": "\\begin{enumerate*}\n\\item 0\n\\item 0\n\\item 0\n\\item 0\n\\item 0\n\\end{enumerate*}\n",
            "text/plain": [
              "[1] 0 0 0 0 0"
            ]
          },
          "metadata": {}
        }
      ]
    },
    {
      "cell_type": "code",
      "source": [
        "# Creating One Vector\n",
        "one_vector = rep(1, 5)\n",
        "one_vector"
      ],
      "metadata": {
        "colab": {
          "base_uri": "https://localhost:8080/",
          "height": 34
        },
        "id": "0T5rqMK5q3QA",
        "outputId": "8bf1ce42-21bd-4951-b445-c4ca0aa2b27c"
      },
      "execution_count": null,
      "outputs": [
        {
          "output_type": "display_data",
          "data": {
            "text/html": [
              "<style>\n",
              ".list-inline {list-style: none; margin:0; padding: 0}\n",
              ".list-inline>li {display: inline-block}\n",
              ".list-inline>li:not(:last-child)::after {content: \"\\00b7\"; padding: 0 .5ex}\n",
              "</style>\n",
              "<ol class=list-inline><li>1</li><li>1</li><li>1</li><li>1</li><li>1</li></ol>\n"
            ],
            "text/markdown": "1. 1\n2. 1\n3. 1\n4. 1\n5. 1\n\n\n",
            "text/latex": "\\begin{enumerate*}\n\\item 1\n\\item 1\n\\item 1\n\\item 1\n\\item 1\n\\end{enumerate*}\n",
            "text/plain": [
              "[1] 1 1 1 1 1"
            ]
          },
          "metadata": {}
        }
      ]
    },
    {
      "cell_type": "code",
      "source": [
        "# Creating Identity Matrix\n",
        "identity_matrix = diag(5)\n",
        "identity_matrix"
      ],
      "metadata": {
        "colab": {
          "base_uri": "https://localhost:8080/",
          "height": 208
        },
        "id": "4bzjuXeBq-la",
        "outputId": "dbf21d71-f99f-4d71-bf5b-5936b9572427"
      },
      "execution_count": null,
      "outputs": [
        {
          "output_type": "display_data",
          "data": {
            "text/html": [
              "<table class=\"dataframe\">\n",
              "<caption>A matrix: 5 × 5 of type dbl</caption>\n",
              "<tbody>\n",
              "\t<tr><td>1</td><td>0</td><td>0</td><td>0</td><td>0</td></tr>\n",
              "\t<tr><td>0</td><td>1</td><td>0</td><td>0</td><td>0</td></tr>\n",
              "\t<tr><td>0</td><td>0</td><td>1</td><td>0</td><td>0</td></tr>\n",
              "\t<tr><td>0</td><td>0</td><td>0</td><td>1</td><td>0</td></tr>\n",
              "\t<tr><td>0</td><td>0</td><td>0</td><td>0</td><td>1</td></tr>\n",
              "</tbody>\n",
              "</table>\n"
            ],
            "text/markdown": "\nA matrix: 5 × 5 of type dbl\n\n| 1 | 0 | 0 | 0 | 0 |\n| 0 | 1 | 0 | 0 | 0 |\n| 0 | 0 | 1 | 0 | 0 |\n| 0 | 0 | 0 | 1 | 0 |\n| 0 | 0 | 0 | 0 | 1 |\n\n",
            "text/latex": "A matrix: 5 × 5 of type dbl\n\\begin{tabular}{lllll}\n\t 1 & 0 & 0 & 0 & 0\\\\\n\t 0 & 1 & 0 & 0 & 0\\\\\n\t 0 & 0 & 1 & 0 & 0\\\\\n\t 0 & 0 & 0 & 1 & 0\\\\\n\t 0 & 0 & 0 & 0 & 1\\\\\n\\end{tabular}\n",
            "text/plain": [
              "     [,1] [,2] [,3] [,4] [,5]\n",
              "[1,] 1    0    0    0    0   \n",
              "[2,] 0    1    0    0    0   \n",
              "[3,] 0    0    1    0    0   \n",
              "[4,] 0    0    0    1    0   \n",
              "[5,] 0    0    0    0    1   "
            ]
          },
          "metadata": {}
        }
      ]
    },
    {
      "cell_type": "code",
      "source": [
        "A"
      ],
      "metadata": {
        "colab": {
          "base_uri": "https://localhost:8080/",
          "height": 132
        },
        "id": "xyU4THzfrEXe",
        "outputId": "23e82c0f-9f22-4c25-dd02-0fd1fd769b90"
      },
      "execution_count": null,
      "outputs": [
        {
          "output_type": "display_data",
          "data": {
            "text/html": [
              "<table class=\"dataframe\">\n",
              "<caption>A matrix: 2 × 3 of type dbl</caption>\n",
              "<tbody>\n",
              "\t<tr><td>1</td><td>2</td><td>3</td></tr>\n",
              "\t<tr><td>4</td><td>5</td><td>6</td></tr>\n",
              "</tbody>\n",
              "</table>\n"
            ],
            "text/markdown": "\nA matrix: 2 × 3 of type dbl\n\n| 1 | 2 | 3 |\n| 4 | 5 | 6 |\n\n",
            "text/latex": "A matrix: 2 × 3 of type dbl\n\\begin{tabular}{lll}\n\t 1 & 2 & 3\\\\\n\t 4 & 5 & 6\\\\\n\\end{tabular}\n",
            "text/plain": [
              "     [,1] [,2] [,3]\n",
              "[1,] 1    2    3   \n",
              "[2,] 4    5    6   "
            ]
          },
          "metadata": {}
        }
      ]
    },
    {
      "cell_type": "code",
      "source": [
        "A %*% numeric(3)"
      ],
      "metadata": {
        "colab": {
          "base_uri": "https://localhost:8080/",
          "height": 184
        },
        "id": "FOD2vmjqrJfd",
        "outputId": "5831b983-ed9d-4a19-c9b9-3114d06e7fb9"
      },
      "execution_count": null,
      "outputs": [
        {
          "output_type": "display_data",
          "data": {
            "text/html": [
              "<table class=\"dataframe\">\n",
              "<caption>A matrix: 2 × 1 of type dbl</caption>\n",
              "<tbody>\n",
              "\t<tr><td>0</td></tr>\n",
              "\t<tr><td>0</td></tr>\n",
              "</tbody>\n",
              "</table>\n"
            ],
            "text/markdown": "\nA matrix: 2 × 1 of type dbl\n\n| 0 |\n| 0 |\n\n",
            "text/latex": "A matrix: 2 × 1 of type dbl\n\\begin{tabular}{l}\n\t 0\\\\\n\t 0\\\\\n\\end{tabular}\n",
            "text/plain": [
              "     [,1]\n",
              "[1,] 0   \n",
              "[2,] 0   "
            ]
          },
          "metadata": {}
        }
      ]
    },
    {
      "cell_type": "code",
      "source": [
        "A %*% rep(1, 3)"
      ],
      "metadata": {
        "colab": {
          "base_uri": "https://localhost:8080/",
          "height": 184
        },
        "id": "2rU5se_urNie",
        "outputId": "82aa24a7-1a06-4705-e3a7-4799f0f85bd9"
      },
      "execution_count": null,
      "outputs": [
        {
          "output_type": "display_data",
          "data": {
            "text/html": [
              "<table class=\"dataframe\">\n",
              "<caption>A matrix: 2 × 1 of type dbl</caption>\n",
              "<tbody>\n",
              "\t<tr><td> 6</td></tr>\n",
              "\t<tr><td>15</td></tr>\n",
              "</tbody>\n",
              "</table>\n"
            ],
            "text/markdown": "\nA matrix: 2 × 1 of type dbl\n\n|  6 |\n| 15 |\n\n",
            "text/latex": "A matrix: 2 × 1 of type dbl\n\\begin{tabular}{l}\n\t  6\\\\\n\t 15\\\\\n\\end{tabular}\n",
            "text/plain": [
              "     [,1]\n",
              "[1,]  6  \n",
              "[2,] 15  "
            ]
          },
          "metadata": {}
        }
      ]
    },
    {
      "cell_type": "code",
      "source": [
        "A %*% diag(3)"
      ],
      "metadata": {
        "colab": {
          "base_uri": "https://localhost:8080/",
          "height": 132
        },
        "id": "Yjnga9VbrXeg",
        "outputId": "233430b6-c3c6-47de-a44e-5f6f7451cbba"
      },
      "execution_count": null,
      "outputs": [
        {
          "output_type": "display_data",
          "data": {
            "text/html": [
              "<table class=\"dataframe\">\n",
              "<caption>A matrix: 2 × 3 of type dbl</caption>\n",
              "<tbody>\n",
              "\t<tr><td>1</td><td>2</td><td>3</td></tr>\n",
              "\t<tr><td>4</td><td>5</td><td>6</td></tr>\n",
              "</tbody>\n",
              "</table>\n"
            ],
            "text/markdown": "\nA matrix: 2 × 3 of type dbl\n\n| 1 | 2 | 3 |\n| 4 | 5 | 6 |\n\n",
            "text/latex": "A matrix: 2 × 3 of type dbl\n\\begin{tabular}{lll}\n\t 1 & 2 & 3\\\\\n\t 4 & 5 & 6\\\\\n\\end{tabular}\n",
            "text/plain": [
              "     [,1] [,2] [,3]\n",
              "[1,] 1    2    3   \n",
              "[2,] 4    5    6   "
            ]
          },
          "metadata": {}
        }
      ]
    },
    {
      "cell_type": "markdown",
      "source": [
        "## 1.10 Square Matrices"
      ],
      "metadata": {
        "id": "W5QG8D69hKYC"
      }
    },
    {
      "cell_type": "markdown",
      "source": [
        "- A matrix $\\mathbf{A}$ is said to be **square** if and only if $m = n$.\n",
        "- If $\\mathbf{A}$ is an $m \\times n$ matrix, then $\\mathbf{A}^T \\mathbf{A}$ is an $n \\times n $ matrix.\n",
        "  - Thus, $\\mathbf{A}^T \\mathbf{A}$ is a square matrix for any matrix $\\mathbf{A}$."
      ],
      "metadata": {
        "id": "ZCGBfnS9hKbt"
      }
    },
    {
      "cell_type": "markdown",
      "source": [
        "## 1.11 Inverse of a Matrix"
      ],
      "metadata": {
        "id": "72xoSLO4_FXD"
      }
    },
    {
      "cell_type": "markdown",
      "source": [
        "- A square matrix $\\mathbf{A}$ is **nonsingular** or **invertible** if and only if there exists a square matrix $\\mathbf{B}$ such that $\\mathbf{AB} = \\mathbf{I}$.\n",
        "- If $\\mathbf{A}$ is nonsingular and $\\mathbf{AB} = \\mathbf{I}$, then $\\mathbf{B}$ is the unique **inverse** of $\\mathbf{A}$ and is written as $\\mathbf{A}^{-1}$.\n",
        "- For a nonsingular matrix $\\mathbf{A}$, we have $\\mathbf{AA}^{-1} = \\mathbf{I}$. (It is also true that $\\mathbf{A}^{-1}\\mathbf{A} = \\mathbf{I}$)\n",
        "- A square matrix without an inverse is called **singular**.\n",
        "- An $n \\times n$ matrix $\\mathbf{A}$ is singular if and only if $\\text{rank}(\\mathbf{A}) < n$.\n"
      ],
      "metadata": {
        "id": "a3wv47W0hKd-"
      }
    },
    {
      "cell_type": "code",
      "source": [
        "A = matrix(c(2, 3, 1, 4), nrow = 2, ncol = 2, byrow = TRUE) # Creating a nonsingular (invertible) matrix A\n",
        "A_inverse = solve(A) # Calculating the inverse of matrix A; if matrix is singular - error \"LinAlgError: Singular matrix\"\n",
        "A\n",
        "A_inverse"
      ],
      "metadata": {
        "colab": {
          "base_uri": "https://localhost:8080/",
          "height": 281
        },
        "id": "BG45u7eZAJMO",
        "outputId": "5c978930-8d01-4986-d556-21f2b06ca061"
      },
      "execution_count": null,
      "outputs": [
        {
          "output_type": "display_data",
          "data": {
            "text/html": [
              "<table class=\"dataframe\">\n",
              "<caption>A matrix: 2 × 2 of type dbl</caption>\n",
              "<tbody>\n",
              "\t<tr><td>2</td><td>3</td></tr>\n",
              "\t<tr><td>1</td><td>4</td></tr>\n",
              "</tbody>\n",
              "</table>\n"
            ],
            "text/markdown": "\nA matrix: 2 × 2 of type dbl\n\n| 2 | 3 |\n| 1 | 4 |\n\n",
            "text/latex": "A matrix: 2 × 2 of type dbl\n\\begin{tabular}{ll}\n\t 2 & 3\\\\\n\t 1 & 4\\\\\n\\end{tabular}\n",
            "text/plain": [
              "     [,1] [,2]\n",
              "[1,] 2    3   \n",
              "[2,] 1    4   "
            ]
          },
          "metadata": {}
        },
        {
          "output_type": "display_data",
          "data": {
            "text/html": [
              "<table class=\"dataframe\">\n",
              "<caption>A matrix: 2 × 2 of type dbl</caption>\n",
              "<tbody>\n",
              "\t<tr><td> 0.8</td><td>-0.6</td></tr>\n",
              "\t<tr><td>-0.2</td><td> 0.4</td></tr>\n",
              "</tbody>\n",
              "</table>\n"
            ],
            "text/markdown": "\nA matrix: 2 × 2 of type dbl\n\n|  0.8 | -0.6 |\n| -0.2 |  0.4 |\n\n",
            "text/latex": "A matrix: 2 × 2 of type dbl\n\\begin{tabular}{ll}\n\t  0.8 & -0.6\\\\\n\t -0.2 &  0.4\\\\\n\\end{tabular}\n",
            "text/plain": [
              "     [,1] [,2]\n",
              "[1,]  0.8 -0.6\n",
              "[2,] -0.2  0.4"
            ]
          },
          "metadata": {}
        }
      ]
    },
    {
      "cell_type": "code",
      "source": [
        "# Verifying that A * A_inverse = I and A_inverse * A = I\n",
        "A %*% A_inverse  # should be the identity matrix"
      ],
      "metadata": {
        "colab": {
          "base_uri": "https://localhost:8080/",
          "height": 114
        },
        "id": "gQ8VHvS_Adq2",
        "outputId": "ed316dba-59fe-4360-b4c2-0a219e6be13b"
      },
      "execution_count": null,
      "outputs": [
        {
          "output_type": "display_data",
          "data": {
            "text/html": [
              "<table class=\"dataframe\">\n",
              "<caption>A matrix: 2 × 2 of type dbl</caption>\n",
              "<tbody>\n",
              "\t<tr><td>1</td><td>-1.110223e-16</td></tr>\n",
              "\t<tr><td>0</td><td> 1.000000e+00</td></tr>\n",
              "</tbody>\n",
              "</table>\n"
            ],
            "text/markdown": "\nA matrix: 2 × 2 of type dbl\n\n| 1 | -1.110223e-16 |\n| 0 |  1.000000e+00 |\n\n",
            "text/latex": "A matrix: 2 × 2 of type dbl\n\\begin{tabular}{ll}\n\t 1 & -1.110223e-16\\\\\n\t 0 &  1.000000e+00\\\\\n\\end{tabular}\n",
            "text/plain": [
              "     [,1] [,2]         \n",
              "[1,] 1    -1.110223e-16\n",
              "[2,] 0     1.000000e+00"
            ]
          },
          "metadata": {}
        }
      ]
    },
    {
      "cell_type": "code",
      "source": [
        "A_inverse %*% A"
      ],
      "metadata": {
        "colab": {
          "base_uri": "https://localhost:8080/",
          "height": 166
        },
        "id": "-j5LMoCCrqz2",
        "outputId": "44d72a57-02c6-4489-9fe5-0a90b7c7f173"
      },
      "execution_count": null,
      "outputs": [
        {
          "output_type": "display_data",
          "data": {
            "text/html": [
              "<table class=\"dataframe\">\n",
              "<caption>A matrix: 2 × 2 of type dbl</caption>\n",
              "<tbody>\n",
              "\t<tr><td>1</td><td>0</td></tr>\n",
              "\t<tr><td>0</td><td>1</td></tr>\n",
              "</tbody>\n",
              "</table>\n"
            ],
            "text/markdown": "\nA matrix: 2 × 2 of type dbl\n\n| 1 | 0 |\n| 0 | 1 |\n\n",
            "text/latex": "A matrix: 2 × 2 of type dbl\n\\begin{tabular}{ll}\n\t 1 & 0\\\\\n\t 0 & 1\\\\\n\\end{tabular}\n",
            "text/plain": [
              "     [,1] [,2]\n",
              "[1,] 1    0   \n",
              "[2,] 0    1   "
            ]
          },
          "metadata": {}
        }
      ]
    },
    {
      "cell_type": "markdown",
      "source": [
        "Question:\n",
        "\n",
        "You are given a 2x2 nonsingular (invertible) matrix **A**:\n",
        "\n",
        "$\n",
        "\\mathbf{A} = \\begin{bmatrix}\n",
        "3 & 5 \\\\\n",
        "2 & 6 \\\\\n",
        "\\end{bmatrix}\n",
        "$\n",
        "\n",
        "Write code to compute the inverse of the matrix **A**. Verify your results.\n"
      ],
      "metadata": {
        "id": "AZhewXl2DwgG"
      }
    },
    {
      "cell_type": "code",
      "source": [],
      "metadata": {
        "colab": {
          "base_uri": "https://localhost:8080/",
          "height": 166
        },
        "id": "NvXaX0ONEF5c",
        "outputId": "465a39cc-8127-4739-8943-eee3edf7f599"
      },
      "execution_count": null,
      "outputs": [
        {
          "output_type": "display_data",
          "data": {
            "text/html": [
              "<table class=\"dataframe\">\n",
              "<caption>A matrix: 2 × 2 of type dbl</caption>\n",
              "<tbody>\n",
              "\t<tr><td>3</td><td>5</td></tr>\n",
              "\t<tr><td>2</td><td>6</td></tr>\n",
              "</tbody>\n",
              "</table>\n"
            ],
            "text/markdown": "\nA matrix: 2 × 2 of type dbl\n\n| 3 | 5 |\n| 2 | 6 |\n\n",
            "text/latex": "A matrix: 2 × 2 of type dbl\n\\begin{tabular}{ll}\n\t 3 & 5\\\\\n\t 2 & 6\\\\\n\\end{tabular}\n",
            "text/plain": [
              "     [,1] [,2]\n",
              "[1,] 3    5   \n",
              "[2,] 2    6   "
            ]
          },
          "metadata": {}
        }
      ]
    },
    {
      "cell_type": "code",
      "source": [
        "A_inverse = solve(A)\n",
        "A_inverse"
      ],
      "metadata": {
        "colab": {
          "base_uri": "https://localhost:8080/",
          "height": 114
        },
        "id": "q518fOc9mgJl",
        "outputId": "d5705b2c-b45b-4878-ee78-c69cee3bf892"
      },
      "execution_count": null,
      "outputs": [
        {
          "output_type": "display_data",
          "data": {
            "text/html": [
              "<table class=\"dataframe\">\n",
              "<caption>A matrix: 2 × 2 of type dbl</caption>\n",
              "<tbody>\n",
              "\t<tr><td> 0.75</td><td>-0.625</td></tr>\n",
              "\t<tr><td>-0.25</td><td> 0.375</td></tr>\n",
              "</tbody>\n",
              "</table>\n"
            ],
            "text/markdown": "\nA matrix: 2 × 2 of type dbl\n\n|  0.75 | -0.625 |\n| -0.25 |  0.375 |\n\n",
            "text/latex": "A matrix: 2 × 2 of type dbl\n\\begin{tabular}{ll}\n\t  0.75 & -0.625\\\\\n\t -0.25 &  0.375\\\\\n\\end{tabular}\n",
            "text/plain": [
              "     [,1]  [,2]  \n",
              "[1,]  0.75 -0.625\n",
              "[2,] -0.25  0.375"
            ]
          },
          "metadata": {}
        }
      ]
    },
    {
      "cell_type": "code",
      "source": [
        "A_inverse %*% A"
      ],
      "metadata": {
        "colab": {
          "base_uri": "https://localhost:8080/",
          "height": 97
        },
        "id": "g-vRg9jUmnQZ",
        "outputId": "01f9bd9d-06bb-4645-d2f2-1ba8e5b27ed8"
      },
      "execution_count": null,
      "outputs": [
        {
          "output_type": "display_data",
          "data": {
            "text/html": [
              "<table class=\"dataframe\">\n",
              "<caption>A matrix: 2 × 2 of type dbl</caption>\n",
              "<tbody>\n",
              "\t<tr><td>1.000000e+00</td><td>6.661338e-16</td></tr>\n",
              "\t<tr><td>1.110223e-16</td><td>1.000000e+00</td></tr>\n",
              "</tbody>\n",
              "</table>\n"
            ],
            "text/markdown": "\nA matrix: 2 × 2 of type dbl\n\n| 1.000000e+00 | 6.661338e-16 |\n| 1.110223e-16 | 1.000000e+00 |\n\n",
            "text/latex": "A matrix: 2 × 2 of type dbl\n\\begin{tabular}{ll}\n\t 1.000000e+00 & 6.661338e-16\\\\\n\t 1.110223e-16 & 1.000000e+00\\\\\n\\end{tabular}\n",
            "text/plain": [
              "     [,1]         [,2]        \n",
              "[1,] 1.000000e+00 6.661338e-16\n",
              "[2,] 1.110223e-16 1.000000e+00"
            ]
          },
          "metadata": {}
        }
      ]
    },
    {
      "cell_type": "markdown",
      "source": [
        "# Acknowledgment"
      ],
      "metadata": {
        "id": "gNyqaCpLvlFa"
      }
    },
    {
      "cell_type": "markdown",
      "source": [
        "\n",
        "\n",
        "\n",
        "Reference:\n",
        "1. STAT 510 Lecture Notes, Iowa State University\n",
        "2. STAT 206 Lecture Notes, University of California, Davis\n",
        "3. SISG - Introduction to Mixed Model, Guilherme J. M. Rosa, University of Wisconsin-Madison\n",
        "4. lmmonboard: https://lmmonboard.ucdavis.edu/myapp, Hao Cheng, Chunpeng James Chen\n",
        "\n",
        "Contributors:\n",
        "* Tianjing Zhao (tzhao9@unl.edu), University of Nebraska-Lincoln\n",
        "* Brian Rice (brice7@unl.edu), University of Nebraska-Lincoln\n",
        "* Hao Cheng (qtlcheng@ucdavis.edu), University of California, Davis\n",
        "* GPT-4"
      ],
      "metadata": {
        "id": "6WYcn2XulZ2F"
      }
    },
    {
      "cell_type": "markdown",
      "source": [
        "# 2. Images as Matrices"
      ],
      "metadata": {
        "id": "ct1mkzZPg0hs"
      }
    }
  ]
}