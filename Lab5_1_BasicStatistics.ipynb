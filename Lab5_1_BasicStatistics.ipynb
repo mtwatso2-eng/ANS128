{
  "nbformat": 4,
  "nbformat_minor": 0,
  "metadata": {
    "colab": {
      "provenance": [],
      "include_colab_link": true
    },
    "kernelspec": {
      "name": "ir",
      "display_name": "R"
    },
    "language_info": {
      "name": "R"
    }
  },
  "cells": [
    {
      "cell_type": "markdown",
      "metadata": {
        "id": "view-in-github",
        "colab_type": "text"
      },
      "source": [
        "<a href=\"https://colab.research.google.com/github/mtwatso2-eng/ANS128/blob/main/Lab5_1_BasicStatistics.ipynb\" target=\"_parent\"><img src=\"https://colab.research.google.com/assets/colab-badge.svg\" alt=\"Open In Colab\"/></a>"
      ]
    },
    {
      "cell_type": "markdown",
      "source": [
        "# Model-based inference and Randomization (design-based inference)\n"
      ],
      "metadata": {
        "id": "0sMNrX1HM7G-"
      }
    },
    {
      "cell_type": "markdown",
      "source": [
        "## Animal Behavior Study\n",
        "\n",
        "* Experimental units: animals\n",
        "\n",
        "* Treatment: type of reinforcement used during training (one group receives reward-based training, the other receives routine-based training)\n",
        "\n",
        "* Random assignment: 24 animals in the first group, 23 in the second group\n",
        "\n",
        "* Response: average of 12 evaluations of performance on a 40-point scale"
      ],
      "metadata": {
        "id": "_ZZb5NlTNDB8"
      }
    },
    {
      "cell_type": "markdown",
      "source": [
        "Observed data\n",
        "\n",
        "Group 1\n",
        "\n",
        "12.0   12.0   12.9   13.6   16.6   17.2\n",
        "\n",
        "17.5   18.2   19.1   19.3   19.8   20.3\n",
        "\n",
        "20.5   20.6   21.3   21.6   22.1   22.2\n",
        "\n",
        "22.6   23.1   24.0   24.3   26.7   29.7\n",
        "\n",
        "Group 2\n",
        "\n",
        "5.0      5.4      6.1   10.9   11.8   12.0\n",
        "\n",
        "12.3   14.8   15.0   16.8   17.2   17.2\n",
        "\n",
        "17.4   17.5   18.5   18.7   18.7   19.2\n",
        "\n",
        "19.5   20.7   21.2   22.1   24.0"
      ],
      "metadata": {
        "id": "hLgP6ru4NL1t"
      }
    },
    {
      "cell_type": "code",
      "source": [
        "group1 = c(12.0, 12.0, 12.9, 13.6, 16.6, 17.2,\n",
        "              17.5, 18.2, 19.1, 19.3, 19.8, 20.3,\n",
        "              20.5, 20.6, 21.3, 21.6, 22.1, 22.2,\n",
        "              22.6, 23.1, 24.0, 24.3, 26.7, 29.7)\n",
        "group2 = c( 5.0,  5.4,  6.1, 10.9, 11.8, 12.0,\n",
        "              12.3, 14.8, 15.0, 16.8, 17.2, 17.2,\n",
        "              17.4, 17.5, 18.5, 18.7, 18.7, 19.2,\n",
        "              19.5, 20.7, 21.2, 22.1, 24.0)\n",
        "\n",
        "ngroup1 = length(group1)\n",
        "boxplot(group1,group2)"
      ],
      "metadata": {
        "id": "9Y-ZAdxCNiTx"
      },
      "execution_count": null,
      "outputs": []
    },
    {
      "cell_type": "markdown",
      "source": [
        "## Model-based Inference"
      ],
      "metadata": {
        "id": "iPtnzR2wN6Ny"
      }
    },
    {
      "cell_type": "markdown",
      "source": [
        "### model diagnostics\n",
        "#### homogeneous variances"
      ],
      "metadata": {
        "id": "oRV3gVL5N_hC"
      }
    },
    {
      "cell_type": "code",
      "source": [
        "var.test(group1,group2)"
      ],
      "metadata": {
        "id": "Qb055_ZIONl3"
      },
      "execution_count": null,
      "outputs": []
    },
    {
      "cell_type": "markdown",
      "source": [
        "### Normality"
      ],
      "metadata": {
        "id": "KPcGFJoKOW47"
      }
    },
    {
      "cell_type": "code",
      "source": [
        "plot(density(group1))\n",
        "plot(density(group2))"
      ],
      "metadata": {
        "id": "BZXU3TFIOVy1"
      },
      "execution_count": null,
      "outputs": []
    },
    {
      "cell_type": "code",
      "source": [
        "qqnorm(group1)\n",
        "qqline(group1)"
      ],
      "metadata": {
        "id": "Tz5KJx3Xxsxf"
      },
      "execution_count": null,
      "outputs": []
    },
    {
      "cell_type": "markdown",
      "source": [
        "### Normality (from scratch)"
      ],
      "metadata": {
        "id": "qNdTCjplO1aG"
      }
    },
    {
      "cell_type": "code",
      "source": [
        "ngroup1 = length(group1)\n",
        "quantiles = qnorm(1:ngroup1/ngroup1)\n",
        "plot(quantiles, sort(group1))"
      ],
      "metadata": {
        "id": "AG8hDM5iO6ga"
      },
      "execution_count": null,
      "outputs": []
    },
    {
      "cell_type": "markdown",
      "source": [
        "Now that we know that the model assumption of normality is met, we can perform statistical tests using linear models. Let's test whether reward-based training has an effect on performance compared to routine-based training.\n",
        "\n",
        "**Question**: Use the statistical test cheat sheet to find the right code to run this statistical test. We are testing whether an intercept for group 1 (plus a difference if group 2) predicts y."
      ],
      "metadata": {
        "id": "uTEAiThdtStD"
      }
    },
    {
      "cell_type": "code",
      "source": [],
      "metadata": {
        "id": "xVhPsKm5dguq"
      },
      "execution_count": null,
      "outputs": []
    },
    {
      "cell_type": "markdown",
      "source": [
        "Does reward-based training have an effect on performance compared to routine-based training? Justify your answer using the model output."
      ],
      "metadata": {
        "id": "dB3Sg-a2vMiL"
      }
    },
    {
      "cell_type": "code",
      "source": [],
      "metadata": {
        "id": "XMDDKUxzvMJb"
      },
      "execution_count": null,
      "outputs": []
    },
    {
      "cell_type": "markdown",
      "source": [
        "## Randomization (design-based inference)"
      ],
      "metadata": {
        "id": "f6A9Gfu2PCoZ"
      }
    },
    {
      "cell_type": "code",
      "source": [
        "nsamples   = 10000\n",
        "diffs      = numeric(nsamples)\n",
        "for (i in 1:nsamples){\n",
        "  randi      = sample(c(group1,group2))\n",
        "  group1i = randi[1:ngroup1]\n",
        "  group2i = randi[-(1:ngroup1)]\n",
        "  diffs[i]   = mean(group1i) - mean(group2i)\n",
        "}\n",
        "diff_obs = mean(group1) - mean(group2)\n",
        "\n",
        "hist(diffs,col=\"gray\",las=1,main=(mean(abs(diffs) >= abs(diff_obs))))\n",
        "abline(v=diff_obs,col=\"red\")\n",
        "abline(v=-diff_obs,col=\"red\")"
      ],
      "metadata": {
        "id": "9OHQg6f7PJLH"
      },
      "execution_count": null,
      "outputs": []
    }
  ]
}