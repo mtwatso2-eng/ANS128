{
  "nbformat": 4,
  "nbformat_minor": 0,
  "metadata": {
    "colab": {
      "provenance": [],
      "include_colab_link": true
    },
    "kernelspec": {
      "name": "ir",
      "display_name": "R"
    },
    "language_info": {
      "name": "R"
    }
  },
  "cells": [
    {
      "cell_type": "markdown",
      "metadata": {
        "id": "view-in-github",
        "colab_type": "text"
      },
      "source": [
        "<a href=\"https://colab.research.google.com/github/mtwatso2-eng/ANS128/blob/main/Lab3_1_MatrixAlgebra.ipynb\" target=\"_parent\"><img src=\"https://colab.research.google.com/assets/colab-badge.svg\" alt=\"Open In Colab\"/></a>"
      ]
    },
    {
      "cell_type": "markdown",
      "source": [
        "# 1. Basic Matrix Algebra"
      ],
      "metadata": {
        "id": "Fdcz_1r27IF0"
      }
    },
    {
      "cell_type": "markdown",
      "source": [
        "## 1.1 Notation for Scalars, Vectors, and Matrices\n"
      ],
      "metadata": {
        "id": "-WEk9m8M7PxR"
      }
    },
    {
      "cell_type": "markdown",
      "source": [
        "\n",
        "- Lowercase letters represent scalars, for example: $x$, $b$\n",
        "\n",
        "- Boldface, lowercase letters represent vectors, for example: $\\mathbf{x}$, $ \\mathbf{y}$\n",
        "\n",
        "- Boldface, uppercase letters represent matrices, for example: $ \\mathbf{X} $, $ \\mathbf{A}$"
      ],
      "metadata": {
        "id": "LAq8ZTfIBg0s"
      }
    },
    {
      "cell_type": "markdown",
      "source": [
        "## 1.2 Notation for Dimensions and Elements of a Matrix"
      ],
      "metadata": {
        "id": "yJCWw2Ra_qf_"
      }
    },
    {
      "cell_type": "markdown",
      "source": [
        "* Suppose $ \\mathbf{A} $ is a matrix with $ m $ rows and $ n $ columns. Then we say that $\\mathbf{A} $ has dimensions $ m \\times n $.\n",
        "\n",
        "* Let $ a_{ij} \\in \\mathbb{R} $ be the element or entry in the $ i $th row and $ j $th column of $ \\mathbf{A} $.\n",
        "\n",
        "* We convey all this information with the notation $ \\mathbf{A} = [a_{ij}] $."
      ],
      "metadata": {
        "id": "m1Cee6bdBkOH"
      }
    },
    {
      "cell_type": "markdown",
      "source": [
        "## 1.3 The Product of a Scalar and a Matrix\n"
      ],
      "metadata": {
        "id": "H3D9qJDO-nIj"
      }
    },
    {
      "cell_type": "markdown",
      "source": [
        "Suppose $ \\mathbf{A} = [a_{ij}] $ is a matrix of dimension $ m \\times n $. For any scalar $ c \\in \\mathbb{R} $, $$ c\\mathbf{A} = \\mathbf{A}c = [ca_{ij}] $$\n",
        "\n",
        "i.e., the product of the scalar $ c $ and the matrix $ \\mathbf{A} = [a_{ij}] $ is the matrix whose entry in the $ i $th row and $ j $th column is $ c $ times $a_{ij} $ for each $ i = 1, ..., m $ and $ j = 1, ..., n $."
      ],
      "metadata": {
        "id": "mqkSWeWR_cAE"
      }
    },
    {
      "cell_type": "code",
      "source": [
        "A = matrix(c(1, 2, 3, 4, 5, 6), nrow = 2, ncol = 3, byrow = TRUE)  # Define a matrix A\n",
        "A"
      ],
      "metadata": {
        "colab": {
          "base_uri": "https://localhost:8080/",
          "height": 132
        },
        "id": "bJ5IES4yhPf2",
        "outputId": "161eb985-391a-4104-ee8b-ac00f3b7a40b"
      },
      "execution_count": 4,
      "outputs": [
        {
          "output_type": "display_data",
          "data": {
            "text/html": [
              "<table class=\"dataframe\">\n",
              "<caption>A matrix: 2 × 3 of type dbl</caption>\n",
              "<tbody>\n",
              "\t<tr><td>1</td><td>2</td><td>3</td></tr>\n",
              "\t<tr><td>4</td><td>5</td><td>6</td></tr>\n",
              "</tbody>\n",
              "</table>\n"
            ],
            "text/markdown": "\nA matrix: 2 × 3 of type dbl\n\n| 1 | 2 | 3 |\n| 4 | 5 | 6 |\n\n",
            "text/latex": "A matrix: 2 × 3 of type dbl\n\\begin{tabular}{lll}\n\t 1 & 2 & 3\\\\\n\t 4 & 5 & 6\\\\\n\\end{tabular}\n",
            "text/plain": [
              "     [,1] [,2] [,3]\n",
              "[1,] 1    2    3   \n",
              "[2,] 4    5    6   "
            ]
          },
          "metadata": {}
        }
      ]
    },
    {
      "cell_type": "code",
      "source": [
        "A = matrix(c(1, 2, 3, 4), nrow = 2, ncol = 2, byrow = TRUE) # Define a matrix A\n",
        "c = 2                                                       # Define a scalar c\n",
        "A2 = c * A                                                  # Compute the product of the scalar and the matrix\n",
        "A2                                                          # This will display the resulting matrix"
      ],
      "metadata": {
        "colab": {
          "base_uri": "https://localhost:8080/",
          "height": 167
        },
        "id": "z8yI3zrmgNNs",
        "outputId": "e8843a79-238e-4bc6-8fd0-85919f72ca1e"
      },
      "execution_count": 5,
      "outputs": [
        {
          "output_type": "display_data",
          "data": {
            "text/html": [
              "<table class=\"dataframe\">\n",
              "<caption>A matrix: 2 × 2 of type dbl</caption>\n",
              "<tbody>\n",
              "\t<tr><td>2</td><td>4</td></tr>\n",
              "\t<tr><td>6</td><td>8</td></tr>\n",
              "</tbody>\n",
              "</table>\n"
            ],
            "text/markdown": "\nA matrix: 2 × 2 of type dbl\n\n| 2 | 4 |\n| 6 | 8 |\n\n",
            "text/latex": "A matrix: 2 × 2 of type dbl\n\\begin{tabular}{ll}\n\t 2 & 4\\\\\n\t 6 & 8\\\\\n\\end{tabular}\n",
            "text/plain": [
              "     [,1] [,2]\n",
              "[1,] 2    4   \n",
              "[2,] 6    8   "
            ]
          },
          "metadata": {}
        }
      ]
    },
    {
      "cell_type": "markdown",
      "source": [
        "Question:\n",
        "\n",
        "Create a 2x2 matrix $\\mathbf{B}$:\n",
        "\n",
        "$\n",
        "\\mathbf{B} = \\begin{bmatrix}\n",
        "1 & 3 \\\\\n",
        "5 & 7 \\\\\n",
        "\\end{bmatrix}\n",
        "$\n",
        "\n",
        "and a scalar $b = 3$.\n",
        "\n",
        "Write code to compute the product of the scalar $b$ and the matrix $\\mathbf{B}$.\n"
      ],
      "metadata": {
        "id": "tKwYL_yU_rdO"
      }
    },
    {
      "cell_type": "code",
      "source": [],
      "metadata": {
        "id": "Ps313BvJh-Sx"
      },
      "execution_count": 6,
      "outputs": []
    },
    {
      "cell_type": "markdown",
      "source": [
        "## 1.4 The Sum of Two Matrices"
      ],
      "metadata": {
        "id": "jxhS9mo8BoRb"
      }
    },
    {
      "cell_type": "markdown",
      "source": [
        "Suppose $\\mathbf{A} = [a_{ij}]$ and $\\mathbf{B} = [b_{ij}] $ are matrices of dimension $m \\times n $. Then the sum of $\\mathbf{A} $ and $ \\mathbf{B} $ is another matrix $\\mathbf{C} = [c_{ij}] $ of the same dimension, where:\n",
        "\n",
        "$$ \\mathbf{C} = \\mathbf{A} + \\mathbf{B} = [a_{ij} + b_{ij}] $$\n",
        "\n",
        "i.e., the entry in the $i$th row and $j$th column of $\\mathbf{C} $ is the sum of the entry in the $i$th row and $j$th column of $\\mathbf{A}$ and the entry in the $i$th row and $j$th column of $\\mathbf{B}$."
      ],
      "metadata": {
        "id": "71MfnvRE_cDp"
      }
    },
    {
      "cell_type": "code",
      "source": [
        "A = matrix(c(1, 2, 3, 4), nrow = 2, ncol = 2, byrow = TRUE) # Define a matrix A\n",
        "B = matrix(c(5, 6, 7, 8), nrow = 2, ncol = 2, byrow = TRUE) # Define a matrix B\n",
        "C = A + B # Compute the sum of the two matrices\n",
        "C # This will display the resulting matrix"
      ],
      "metadata": {
        "colab": {
          "base_uri": "https://localhost:8080/",
          "height": 132
        },
        "id": "u_mmIQe-CSN2",
        "outputId": "c961c668-e68e-43f9-e646-bfdfc078d025"
      },
      "execution_count": 7,
      "outputs": [
        {
          "output_type": "display_data",
          "data": {
            "text/html": [
              "<table class=\"dataframe\">\n",
              "<caption>A matrix: 2 × 2 of type dbl</caption>\n",
              "<tbody>\n",
              "\t<tr><td> 6</td><td> 8</td></tr>\n",
              "\t<tr><td>10</td><td>12</td></tr>\n",
              "</tbody>\n",
              "</table>\n"
            ],
            "text/markdown": "\nA matrix: 2 × 2 of type dbl\n\n|  6 |  8 |\n| 10 | 12 |\n\n",
            "text/latex": "A matrix: 2 × 2 of type dbl\n\\begin{tabular}{ll}\n\t  6 &  8\\\\\n\t 10 & 12\\\\\n\\end{tabular}\n",
            "text/plain": [
              "     [,1] [,2]\n",
              "[1,]  6    8  \n",
              "[2,] 10   12  "
            ]
          },
          "metadata": {}
        }
      ]
    },
    {
      "cell_type": "markdown",
      "source": [
        "Question:\n",
        "\n",
        "Create two 2x3 matrices $\\mathbf{A}$ and $\\mathbf{B}$:\n",
        "\n",
        "$\n",
        "\\mathbf{A} = \\begin{bmatrix}\n",
        "1 & 2 & 3\\\\\n",
        "4 & 5 & 6 \\\\\n",
        "\\end{bmatrix}\n",
        "$\n",
        "\n",
        "$\n",
        "\\mathbf{B} = \\begin{bmatrix}\n",
        "1 & 1 & 1 \\\\\n",
        "2 & 2 & 2 \\\\\n",
        "\\end{bmatrix}\n",
        "$\n",
        "\n",
        "Write code to compute the sum of the matrices $\\mathbf{A}$ and $\\mathbf{B}$."
      ],
      "metadata": {
        "id": "SrW7OH6gATP-"
      }
    },
    {
      "cell_type": "code",
      "source": [],
      "metadata": {
        "id": "Z1e-uuvWiyCi"
      },
      "execution_count": null,
      "outputs": []
    },
    {
      "cell_type": "markdown",
      "metadata": {
        "id": "14eb46f8"
      },
      "source": [
        "## 1.5 Vector and Vector Transpose"
      ]
    },
    {
      "cell_type": "markdown",
      "metadata": {
        "id": "505bef8e"
      },
      "source": [
        "A vector is a matrix with one column, denoted as:\n",
        "\n",
        "$$ \\mathbf{x} = \\begin{bmatrix} x_1 \\\\ x_2 \\\\ \\vdots \\\\ x_n \\end{bmatrix} $$\n",
        "\n",
        "The transpose of a vector $ \\mathbf{x} $ is a matrix with one row, denoted as:\n",
        "\n",
        "$$ \\mathbf{x}^T = [x_1, x_2, \\dots, x_n] $$\n",
        "\n",
        "i.e., $\\mathbf{x}$ is a matrix with one column and $\\mathbf{x}^T$ is the matrix with the same entries as $\\mathbf{x}$ but written as a row rather than a column."
      ]
    },
    {
      "cell_type": "code",
      "execution_count": 10,
      "metadata": {
        "id": "ae0f28d7",
        "colab": {
          "base_uri": "https://localhost:8080/",
          "height": 34
        },
        "outputId": "9eb3e788-2184-434d-daeb-928f46785993"
      },
      "outputs": [
        {
          "output_type": "display_data",
          "data": {
            "text/html": [
              "<style>\n",
              ".list-inline {list-style: none; margin:0; padding: 0}\n",
              ".list-inline>li {display: inline-block}\n",
              ".list-inline>li:not(:last-child)::after {content: \"\\00b7\"; padding: 0 .5ex}\n",
              "</style>\n",
              "<ol class=list-inline><li>3</li><li>1</li></ol>\n"
            ],
            "text/markdown": "1. 3\n2. 1\n\n\n",
            "text/latex": "\\begin{enumerate*}\n\\item 3\n\\item 1\n\\end{enumerate*}\n",
            "text/plain": [
              "[1] 3 1"
            ]
          },
          "metadata": {}
        }
      ],
      "source": [
        "x = matrix(c(1, 2, 3), nrow = 3, ncol = 1) # Define a column vector x\n",
        "dim(x)  # This will display the dimensions of x"
      ]
    },
    {
      "cell_type": "code",
      "source": [
        "x_T = t(x) # Compute the transpose of the vector x\n",
        "x_T # This will display the vector and its transpose"
      ],
      "metadata": {
        "colab": {
          "base_uri": "https://localhost:8080/",
          "height": 100
        },
        "id": "U626LkR2jY6W",
        "outputId": "a98b9ec1-be1a-4b27-ebd3-30f3c3afd1eb"
      },
      "execution_count": 11,
      "outputs": [
        {
          "output_type": "display_data",
          "data": {
            "text/html": [
              "<table class=\"dataframe\">\n",
              "<caption>A matrix: 1 × 3 of type dbl</caption>\n",
              "<tbody>\n",
              "\t<tr><td>1</td><td>2</td><td>3</td></tr>\n",
              "</tbody>\n",
              "</table>\n"
            ],
            "text/markdown": "\nA matrix: 1 × 3 of type dbl\n\n| 1 | 2 | 3 |\n\n",
            "text/latex": "A matrix: 1 × 3 of type dbl\n\\begin{tabular}{lll}\n\t 1 & 2 & 3\\\\\n\\end{tabular}\n",
            "text/plain": [
              "     [,1] [,2] [,3]\n",
              "[1,] 1    2    3   "
            ]
          },
          "metadata": {}
        }
      ]
    },
    {
      "cell_type": "code",
      "source": [
        "dim(x_T)"
      ],
      "metadata": {
        "colab": {
          "base_uri": "https://localhost:8080/",
          "height": 34
        },
        "id": "Y3bSZEWNBt8g",
        "outputId": "57491b47-8f2b-41e5-efac-727be7710435"
      },
      "execution_count": 12,
      "outputs": [
        {
          "output_type": "display_data",
          "data": {
            "text/html": [
              "<style>\n",
              ".list-inline {list-style: none; margin:0; padding: 0}\n",
              ".list-inline>li {display: inline-block}\n",
              ".list-inline>li:not(:last-child)::after {content: \"\\00b7\"; padding: 0 .5ex}\n",
              "</style>\n",
              "<ol class=list-inline><li>1</li><li>3</li></ol>\n"
            ],
            "text/markdown": "1. 1\n2. 3\n\n\n",
            "text/latex": "\\begin{enumerate*}\n\\item 1\n\\item 3\n\\end{enumerate*}\n",
            "text/plain": [
              "[1] 1 3"
            ]
          },
          "metadata": {}
        }
      ]
    },
    {
      "cell_type": "markdown",
      "source": [
        " Question:\n",
        "\n",
        "Given a 1x3 row vector **y**:\n",
        "\n",
        "$\n",
        "\\mathbf{y} = \\begin{bmatrix}\n",
        "1 & 2 & 3\n",
        "\\end{bmatrix}\n",
        "$\n",
        "\n",
        "Write code to compute the transpose of the vector **y**.\n"
      ],
      "metadata": {
        "id": "To_tuv4HBJ3_"
      }
    },
    {
      "cell_type": "code",
      "source": [],
      "metadata": {
        "id": "OP883mstBlmB"
      },
      "execution_count": 10,
      "outputs": []
    },
    {
      "cell_type": "markdown",
      "metadata": {
        "id": "a28d266a"
      },
      "source": [
        "## 1.6 Transpose of a Matrix"
      ]
    },
    {
      "cell_type": "markdown",
      "metadata": {
        "id": "fde4f4df"
      },
      "source": [
        "Suppose $\\mathbf{A}$ is an $m \\times n $ matrix. Then the transpose of the matrix $\\mathbf{A}$, denoted as $\\mathbf{A}^T$, is obtained by interchanging the rows and columns of $\\mathbf{A}$.\n",
        "\n",
        "If we write $ \\mathbf{A} = [\\mathbf{a}_1; ...; \\mathbf{a}_n]$, where $\\mathbf{a}_i $ is the $i$th column of $\\mathbf{A}$ for each $i = 1, ..., n $, then:\n",
        "\n",
        "$$ \\mathbf{A}^T = \\begin{bmatrix} \\mathbf{a}_1^T \\\\ ... \\\\ \\mathbf{a}_n^T \\end{bmatrix} $$"
      ]
    },
    {
      "cell_type": "code",
      "execution_count": 13,
      "metadata": {
        "id": "6addd822",
        "colab": {
          "base_uri": "https://localhost:8080/"
        },
        "outputId": "8686fbbf-ac85-44cb-c7ab-af7f20a19d24"
      },
      "outputs": [
        {
          "output_type": "stream",
          "name": "stdout",
          "text": [
            "     [,1] [,2]\n",
            "[1,]    1    2\n",
            "[2,]    3    4\n",
            "[3,]    5    6\n",
            "     [,1] [,2] [,3]\n",
            "[1,]    1    3    5\n",
            "[2,]    2    4    6\n"
          ]
        }
      ],
      "source": [
        "A = matrix(c(1, 2, 3, 4, 5, 6), nrow = 3, ncol = 2, byrow = TRUE) # Define a matrix A\n",
        "A_T = t(A)  # Compute the transpose of the matrix A\n",
        "print(A)\n",
        "print(A_T)  # This will display the matrix and its transpose"
      ]
    },
    {
      "cell_type": "markdown",
      "source": [
        "Question:\n",
        "\n",
        "Create a 2x4 matrix **B**:\n",
        "\n",
        "$\n",
        "\\mathbf{B} = \\begin{bmatrix}\n",
        "1 & 2 & 3 & 4\\\\\n",
        "5 & 6 & 7 & 8\\\\\n",
        "\\end{bmatrix}\n",
        "$\n",
        "\n",
        "Write code to compute the transpose of the matrix.\n"
      ],
      "metadata": {
        "id": "seejVwkrCELG"
      }
    },
    {
      "cell_type": "code",
      "source": [],
      "metadata": {
        "id": "Dizc6isvj-84"
      },
      "execution_count": null,
      "outputs": []
    },
    {
      "cell_type": "markdown",
      "metadata": {
        "id": "6ea6bc81"
      },
      "source": [
        "## 1.7 Matrix Multiplication"
      ]
    },
    {
      "cell_type": "markdown",
      "metadata": {
        "id": "2bc8fed9"
      },
      "source": [
        "Suppose $\\mathbf{A} = [a_{ij}]$ is an $m \\times n$ matrix and $\\mathbf{B} = [b_{ij}]$ is an $n \\times k$ matrix.\n",
        "\n",
        "Then the matrix product $\\mathbf{AB}$, denoted as $ \\mathbf{C} = [c_{ij}]$, is an $m \\times k$ matrix where:\n",
        "\n",
        "$$ c_{ij} = \\sum_{l=1}^{n} a_{il} b_{lj} $$"
      ]
    },
    {
      "cell_type": "markdown",
      "metadata": {
        "id": "ab94d35e"
      },
      "source": [
        "i.e., each element $c_{ij}$ of the matrix $\\mathbf{C}$ is computed as the sum of the product of corresponding elements from the $i$th row of $\\mathbf{A}$ and the $j$th column of $\\mathbf{B}$."
      ]
    },
    {
      "cell_type": "code",
      "execution_count": 16,
      "metadata": {
        "id": "6c31c158",
        "colab": {
          "base_uri": "https://localhost:8080/",
          "height": 347
        },
        "outputId": "3f61d586-07d2-45fc-d13e-8b4168c42786"
      },
      "outputs": [
        {
          "output_type": "display_data",
          "data": {
            "text/html": [
              "<table class=\"dataframe\">\n",
              "<caption>A matrix: 3 × 2 of type dbl</caption>\n",
              "<tbody>\n",
              "\t<tr><td>1</td><td>2</td></tr>\n",
              "\t<tr><td>3</td><td>4</td></tr>\n",
              "\t<tr><td>5</td><td>6</td></tr>\n",
              "</tbody>\n",
              "</table>\n"
            ],
            "text/markdown": "\nA matrix: 3 × 2 of type dbl\n\n| 1 | 2 |\n| 3 | 4 |\n| 5 | 6 |\n\n",
            "text/latex": "A matrix: 3 × 2 of type dbl\n\\begin{tabular}{ll}\n\t 1 & 2\\\\\n\t 3 & 4\\\\\n\t 5 & 6\\\\\n\\end{tabular}\n",
            "text/plain": [
              "     [,1] [,2]\n",
              "[1,] 1    2   \n",
              "[2,] 3    4   \n",
              "[3,] 5    6   "
            ]
          },
          "metadata": {}
        },
        {
          "output_type": "display_data",
          "data": {
            "text/html": [
              "<table class=\"dataframe\">\n",
              "<caption>A matrix: 2 × 2 of type dbl</caption>\n",
              "<tbody>\n",
              "\t<tr><td>2</td><td>3</td></tr>\n",
              "\t<tr><td>4</td><td>5</td></tr>\n",
              "</tbody>\n",
              "</table>\n"
            ],
            "text/markdown": "\nA matrix: 2 × 2 of type dbl\n\n| 2 | 3 |\n| 4 | 5 |\n\n",
            "text/latex": "A matrix: 2 × 2 of type dbl\n\\begin{tabular}{ll}\n\t 2 & 3\\\\\n\t 4 & 5\\\\\n\\end{tabular}\n",
            "text/plain": [
              "     [,1] [,2]\n",
              "[1,] 2    3   \n",
              "[2,] 4    5   "
            ]
          },
          "metadata": {}
        }
      ],
      "source": [
        "A = matrix(c(1, 2, 3, 4, 5, 6), nrow = 3, ncol = 2, byrow = TRUE)# Define a matrix A\n",
        "B = matrix(c(2, 3, 4, 5), nrow = 2, ncol = , byrow = TRUE) # Define a matrix B\n",
        "A\n",
        "B"
      ]
    },
    {
      "cell_type": "code",
      "execution_count": 18,
      "metadata": {
        "id": "7858660b",
        "colab": {
          "base_uri": "https://localhost:8080/",
          "height": 132
        },
        "outputId": "45e7124e-9d84-4d2c-db41-625b3deb8a93"
      },
      "outputs": [
        {
          "output_type": "display_data",
          "data": {
            "text/html": [
              "<table class=\"dataframe\">\n",
              "<caption>A matrix: 2 × 2 of type dbl</caption>\n",
              "<tbody>\n",
              "\t<tr><td> 58</td><td> 64</td></tr>\n",
              "\t<tr><td>139</td><td>154</td></tr>\n",
              "</tbody>\n",
              "</table>\n"
            ],
            "text/markdown": "\nA matrix: 2 × 2 of type dbl\n\n|  58 |  64 |\n| 139 | 154 |\n\n",
            "text/latex": "A matrix: 2 × 2 of type dbl\n\\begin{tabular}{ll}\n\t  58 &  64\\\\\n\t 139 & 154\\\\\n\\end{tabular}\n",
            "text/plain": [
              "     [,1] [,2]\n",
              "[1,]  58   64 \n",
              "[2,] 139  154 "
            ]
          },
          "metadata": {}
        }
      ],
      "source": [
        "C = A %*% B  # Compute the matrix product AB\n",
        "C  # This will display the resulting matrix"
      ]
    },
    {
      "cell_type": "markdown",
      "source": [
        "Question:\n",
        "\n",
        "Given a 2x3 matrix **A**:\n",
        "\n",
        "$\n",
        "\\mathbf{A} = \\begin{bmatrix}\n",
        "1 & 2 & 3 \\\\\n",
        "4 & 5 & 6 \\\\\n",
        "\\end{bmatrix}\n",
        "$\n",
        "\n",
        "and a 3x1 matrix **B**:\n",
        "\n",
        "$\n",
        "\\mathbf{B} = \\begin{bmatrix}\n",
        "2 \\\\\n",
        "3 \\\\\n",
        "4 \\\\\n",
        "\\end{bmatrix}\n",
        "$\n",
        "\n",
        "Write a code to compute the matrix product of **A** and **B**.\n"
      ],
      "metadata": {
        "id": "ZWfN3bBpC2F8"
      }
    },
    {
      "cell_type": "code",
      "source": [
        "A %*% B"
      ],
      "metadata": {
        "colab": {
          "base_uri": "https://localhost:8080/",
          "height": 184
        },
        "id": "eFz2k9iLRk5t",
        "outputId": "7329afe1-3e02-423b-d431-af4b4f86a3cb"
      },
      "execution_count": 24,
      "outputs": [
        {
          "output_type": "display_data",
          "data": {
            "text/html": [
              "<table class=\"dataframe\">\n",
              "<caption>A matrix: 2 × 1 of type dbl</caption>\n",
              "<tbody>\n",
              "\t<tr><td>20</td></tr>\n",
              "\t<tr><td>47</td></tr>\n",
              "</tbody>\n",
              "</table>\n"
            ],
            "text/markdown": "\nA matrix: 2 × 1 of type dbl\n\n| 20 |\n| 47 |\n\n",
            "text/latex": "A matrix: 2 × 1 of type dbl\n\\begin{tabular}{l}\n\t 20\\\\\n\t 47\\\\\n\\end{tabular}\n",
            "text/plain": [
              "     [,1]\n",
              "[1,] 20  \n",
              "[2,] 47  "
            ]
          },
          "metadata": {}
        }
      ]
    },
    {
      "cell_type": "markdown",
      "source": [
        "Extra Credit Question:\n",
        "\n",
        "Write code using only `for` loops and scalar operations to compute the matrix product of **A** and **B**.\n"
      ],
      "metadata": {
        "id": "ZRvsFqskdNFt"
      }
    },
    {
      "cell_type": "code",
      "source": [],
      "metadata": {
        "id": "lTYyLZ0PeL1E"
      },
      "execution_count": null,
      "outputs": []
    },
    {
      "cell_type": "markdown",
      "source": [
        "## 1.8 Transpose of a Matrix Product\n",
        "\n"
      ],
      "metadata": {
        "id": "a1mw2bU_fknw"
      }
    },
    {
      "cell_type": "markdown",
      "source": [
        "The transpose of a matrix product is a product of the transposes\n",
        "in reverse order; i.e., $(\\mathbf{AB})^T = \\mathbf{B}^T \\mathbf{A}^T$."
      ],
      "metadata": {
        "id": "1SYq-oSigW3Z"
      }
    },
    {
      "cell_type": "markdown",
      "source": [
        "Question: write code to verify $(\\mathbf{AB})^T = \\mathbf{B}^T \\mathbf{A}^T$"
      ],
      "metadata": {
        "id": "OOYw6RarFW4z"
      }
    },
    {
      "cell_type": "code",
      "source": [],
      "metadata": {
        "id": "dw_Kc17rlAzt"
      },
      "execution_count": 29,
      "outputs": []
    },
    {
      "cell_type": "markdown",
      "source": [
        "## 1.9 Zero and One Vectors and the Identity Matrix"
      ],
      "metadata": {
        "id": "H6xEUpdZhES0"
      }
    },
    {
      "cell_type": "markdown",
      "source": [
        "- Zero Vector, $\\mathbf{0} $:\n",
        "  $$\\mathbf{0} = \\begin{bmatrix} 0 \\\\ 0 \\\\ \\vdots \\\\ 0 \\end{bmatrix} $$\n",
        "  $\\mathbf{0}$ is also used to denote a matrix whose entries are all zero.\n",
        "- One Vector, $\\mathbf{1}$:\n",
        "  $$\\mathbf{1} = \\begin{bmatrix} 1 \\\\ 1 \\\\ \\vdots \\\\ 1 \\end{bmatrix} $$\n",
        "- Identity Matrix, $\\mathbf{I}$:\n",
        "  $$ I = \\begin{bmatrix} 1 & 0 & 0 & \\dots & 0 \\\\ 0 & 1 & 0 & \\dots & 0 \\\\ 0 & 0 & 1 & \\dots & 0 \\\\ \\vdots & \\vdots & \\vdots & \\ddots & \\vdots \\\\ 0 & 0 & 0 & \\dots & 1 \\end{bmatrix} $$\n",
        "\n",
        "\n"
      ],
      "metadata": {
        "id": "-QRWsDI3hKUI"
      }
    },
    {
      "cell_type": "code",
      "source": [
        "# Creating Zero Vector\n",
        "zero_vector = numeric(5) #or rep(0, 5)\n",
        "zero_vector"
      ],
      "metadata": {
        "colab": {
          "base_uri": "https://localhost:8080/",
          "height": 34
        },
        "id": "crqCW3Yejlfb",
        "outputId": "6341f09a-e04e-4408-9d97-28c8ba4e8961"
      },
      "execution_count": 31,
      "outputs": [
        {
          "output_type": "display_data",
          "data": {
            "text/html": [
              "<style>\n",
              ".list-inline {list-style: none; margin:0; padding: 0}\n",
              ".list-inline>li {display: inline-block}\n",
              ".list-inline>li:not(:last-child)::after {content: \"\\00b7\"; padding: 0 .5ex}\n",
              "</style>\n",
              "<ol class=list-inline><li>0</li><li>0</li><li>0</li><li>0</li><li>0</li></ol>\n"
            ],
            "text/markdown": "1. 0\n2. 0\n3. 0\n4. 0\n5. 0\n\n\n",
            "text/latex": "\\begin{enumerate*}\n\\item 0\n\\item 0\n\\item 0\n\\item 0\n\\item 0\n\\end{enumerate*}\n",
            "text/plain": [
              "[1] 0 0 0 0 0"
            ]
          },
          "metadata": {}
        }
      ]
    },
    {
      "cell_type": "code",
      "source": [
        "# Creating One Vector\n",
        "one_vector = rep(1, 5)\n",
        "one_vector"
      ],
      "metadata": {
        "colab": {
          "base_uri": "https://localhost:8080/",
          "height": 34
        },
        "id": "0T5rqMK5q3QA",
        "outputId": "8bf1ce42-21bd-4951-b445-c4ca0aa2b27c"
      },
      "execution_count": null,
      "outputs": [
        {
          "output_type": "display_data",
          "data": {
            "text/html": [
              "<style>\n",
              ".list-inline {list-style: none; margin:0; padding: 0}\n",
              ".list-inline>li {display: inline-block}\n",
              ".list-inline>li:not(:last-child)::after {content: \"\\00b7\"; padding: 0 .5ex}\n",
              "</style>\n",
              "<ol class=list-inline><li>1</li><li>1</li><li>1</li><li>1</li><li>1</li></ol>\n"
            ],
            "text/markdown": "1. 1\n2. 1\n3. 1\n4. 1\n5. 1\n\n\n",
            "text/latex": "\\begin{enumerate*}\n\\item 1\n\\item 1\n\\item 1\n\\item 1\n\\item 1\n\\end{enumerate*}\n",
            "text/plain": [
              "[1] 1 1 1 1 1"
            ]
          },
          "metadata": {}
        }
      ]
    },
    {
      "cell_type": "code",
      "source": [
        "# Creating Identity Matrix\n",
        "identity_matrix = diag(5)\n",
        "identity_matrix"
      ],
      "metadata": {
        "colab": {
          "base_uri": "https://localhost:8080/",
          "height": 208
        },
        "id": "4bzjuXeBq-la",
        "outputId": "dbf21d71-f99f-4d71-bf5b-5936b9572427"
      },
      "execution_count": null,
      "outputs": [
        {
          "output_type": "display_data",
          "data": {
            "text/html": [
              "<table class=\"dataframe\">\n",
              "<caption>A matrix: 5 × 5 of type dbl</caption>\n",
              "<tbody>\n",
              "\t<tr><td>1</td><td>0</td><td>0</td><td>0</td><td>0</td></tr>\n",
              "\t<tr><td>0</td><td>1</td><td>0</td><td>0</td><td>0</td></tr>\n",
              "\t<tr><td>0</td><td>0</td><td>1</td><td>0</td><td>0</td></tr>\n",
              "\t<tr><td>0</td><td>0</td><td>0</td><td>1</td><td>0</td></tr>\n",
              "\t<tr><td>0</td><td>0</td><td>0</td><td>0</td><td>1</td></tr>\n",
              "</tbody>\n",
              "</table>\n"
            ],
            "text/markdown": "\nA matrix: 5 × 5 of type dbl\n\n| 1 | 0 | 0 | 0 | 0 |\n| 0 | 1 | 0 | 0 | 0 |\n| 0 | 0 | 1 | 0 | 0 |\n| 0 | 0 | 0 | 1 | 0 |\n| 0 | 0 | 0 | 0 | 1 |\n\n",
            "text/latex": "A matrix: 5 × 5 of type dbl\n\\begin{tabular}{lllll}\n\t 1 & 0 & 0 & 0 & 0\\\\\n\t 0 & 1 & 0 & 0 & 0\\\\\n\t 0 & 0 & 1 & 0 & 0\\\\\n\t 0 & 0 & 0 & 1 & 0\\\\\n\t 0 & 0 & 0 & 0 & 1\\\\\n\\end{tabular}\n",
            "text/plain": [
              "     [,1] [,2] [,3] [,4] [,5]\n",
              "[1,] 1    0    0    0    0   \n",
              "[2,] 0    1    0    0    0   \n",
              "[3,] 0    0    1    0    0   \n",
              "[4,] 0    0    0    1    0   \n",
              "[5,] 0    0    0    0    1   "
            ]
          },
          "metadata": {}
        }
      ]
    },
    {
      "cell_type": "code",
      "source": [
        "A"
      ],
      "metadata": {
        "colab": {
          "base_uri": "https://localhost:8080/",
          "height": 132
        },
        "id": "xyU4THzfrEXe",
        "outputId": "23e82c0f-9f22-4c25-dd02-0fd1fd769b90"
      },
      "execution_count": null,
      "outputs": [
        {
          "output_type": "display_data",
          "data": {
            "text/html": [
              "<table class=\"dataframe\">\n",
              "<caption>A matrix: 2 × 3 of type dbl</caption>\n",
              "<tbody>\n",
              "\t<tr><td>1</td><td>2</td><td>3</td></tr>\n",
              "\t<tr><td>4</td><td>5</td><td>6</td></tr>\n",
              "</tbody>\n",
              "</table>\n"
            ],
            "text/markdown": "\nA matrix: 2 × 3 of type dbl\n\n| 1 | 2 | 3 |\n| 4 | 5 | 6 |\n\n",
            "text/latex": "A matrix: 2 × 3 of type dbl\n\\begin{tabular}{lll}\n\t 1 & 2 & 3\\\\\n\t 4 & 5 & 6\\\\\n\\end{tabular}\n",
            "text/plain": [
              "     [,1] [,2] [,3]\n",
              "[1,] 1    2    3   \n",
              "[2,] 4    5    6   "
            ]
          },
          "metadata": {}
        }
      ]
    },
    {
      "cell_type": "code",
      "source": [
        "A %*% numeric(3)"
      ],
      "metadata": {
        "colab": {
          "base_uri": "https://localhost:8080/",
          "height": 184
        },
        "id": "FOD2vmjqrJfd",
        "outputId": "5831b983-ed9d-4a19-c9b9-3114d06e7fb9"
      },
      "execution_count": null,
      "outputs": [
        {
          "output_type": "display_data",
          "data": {
            "text/html": [
              "<table class=\"dataframe\">\n",
              "<caption>A matrix: 2 × 1 of type dbl</caption>\n",
              "<tbody>\n",
              "\t<tr><td>0</td></tr>\n",
              "\t<tr><td>0</td></tr>\n",
              "</tbody>\n",
              "</table>\n"
            ],
            "text/markdown": "\nA matrix: 2 × 1 of type dbl\n\n| 0 |\n| 0 |\n\n",
            "text/latex": "A matrix: 2 × 1 of type dbl\n\\begin{tabular}{l}\n\t 0\\\\\n\t 0\\\\\n\\end{tabular}\n",
            "text/plain": [
              "     [,1]\n",
              "[1,] 0   \n",
              "[2,] 0   "
            ]
          },
          "metadata": {}
        }
      ]
    },
    {
      "cell_type": "code",
      "source": [
        "A %*% rep(1, 3)"
      ],
      "metadata": {
        "colab": {
          "base_uri": "https://localhost:8080/",
          "height": 184
        },
        "id": "2rU5se_urNie",
        "outputId": "82aa24a7-1a06-4705-e3a7-4799f0f85bd9"
      },
      "execution_count": null,
      "outputs": [
        {
          "output_type": "display_data",
          "data": {
            "text/html": [
              "<table class=\"dataframe\">\n",
              "<caption>A matrix: 2 × 1 of type dbl</caption>\n",
              "<tbody>\n",
              "\t<tr><td> 6</td></tr>\n",
              "\t<tr><td>15</td></tr>\n",
              "</tbody>\n",
              "</table>\n"
            ],
            "text/markdown": "\nA matrix: 2 × 1 of type dbl\n\n|  6 |\n| 15 |\n\n",
            "text/latex": "A matrix: 2 × 1 of type dbl\n\\begin{tabular}{l}\n\t  6\\\\\n\t 15\\\\\n\\end{tabular}\n",
            "text/plain": [
              "     [,1]\n",
              "[1,]  6  \n",
              "[2,] 15  "
            ]
          },
          "metadata": {}
        }
      ]
    },
    {
      "cell_type": "code",
      "source": [
        "A %*% diag(3)"
      ],
      "metadata": {
        "colab": {
          "base_uri": "https://localhost:8080/",
          "height": 132
        },
        "id": "Yjnga9VbrXeg",
        "outputId": "233430b6-c3c6-47de-a44e-5f6f7451cbba"
      },
      "execution_count": null,
      "outputs": [
        {
          "output_type": "display_data",
          "data": {
            "text/html": [
              "<table class=\"dataframe\">\n",
              "<caption>A matrix: 2 × 3 of type dbl</caption>\n",
              "<tbody>\n",
              "\t<tr><td>1</td><td>2</td><td>3</td></tr>\n",
              "\t<tr><td>4</td><td>5</td><td>6</td></tr>\n",
              "</tbody>\n",
              "</table>\n"
            ],
            "text/markdown": "\nA matrix: 2 × 3 of type dbl\n\n| 1 | 2 | 3 |\n| 4 | 5 | 6 |\n\n",
            "text/latex": "A matrix: 2 × 3 of type dbl\n\\begin{tabular}{lll}\n\t 1 & 2 & 3\\\\\n\t 4 & 5 & 6\\\\\n\\end{tabular}\n",
            "text/plain": [
              "     [,1] [,2] [,3]\n",
              "[1,] 1    2    3   \n",
              "[2,] 4    5    6   "
            ]
          },
          "metadata": {}
        }
      ]
    },
    {
      "cell_type": "markdown",
      "source": [
        "## 1.10 Square Matrices"
      ],
      "metadata": {
        "id": "W5QG8D69hKYC"
      }
    },
    {
      "cell_type": "markdown",
      "source": [
        "- A matrix $\\mathbf{A}$ is said to be **square** if and only if $m = n$.\n",
        "- If $\\mathbf{A}$ is an $m \\times n$ matrix, then $\\mathbf{A}^T \\mathbf{A}$ is an $n \\times n $ matrix.\n",
        "  - Thus, $\\mathbf{A}^T \\mathbf{A}$ is a square matrix for any matrix $\\mathbf{A}$."
      ],
      "metadata": {
        "id": "ZCGBfnS9hKbt"
      }
    },
    {
      "cell_type": "markdown",
      "source": [
        "## 1.11 Inverse of a Matrix"
      ],
      "metadata": {
        "id": "72xoSLO4_FXD"
      }
    },
    {
      "cell_type": "markdown",
      "source": [
        "- A square matrix $\\mathbf{A}$ is **nonsingular** or **invertible** if and only if there exists a square matrix $\\mathbf{B}$ such that $\\mathbf{AB} = \\mathbf{I}$.\n",
        "- If $\\mathbf{A}$ is nonsingular and $\\mathbf{AB} = \\mathbf{I}$, then $\\mathbf{B}$ is the unique **inverse** of $\\mathbf{A}$ and is written as $\\mathbf{A}^{-1}$.\n",
        "- For a nonsingular matrix $\\mathbf{A}$, we have $\\mathbf{AA}^{-1} = \\mathbf{I}$. (It is also true that $\\mathbf{A}^{-1}\\mathbf{A} = \\mathbf{I}$)\n",
        "- A square matrix without an inverse is called **singular**.\n",
        "- An $n \\times n$ matrix $\\mathbf{A}$ is singular if and only if $\\text{rank}(\\mathbf{A}) < n$.\n"
      ],
      "metadata": {
        "id": "a3wv47W0hKd-"
      }
    },
    {
      "cell_type": "code",
      "source": [
        "A = matrix(c(2, 3, 1, 4), nrow = 2, ncol = 2, byrow = TRUE) # Creating a nonsingular (invertible) matrix A\n",
        "A_inverse = solve(A) # Calculating the inverse of matrix A; if matrix is singular - error \"LinAlgError: Singular matrix\"\n",
        "A\n",
        "A_inverse"
      ],
      "metadata": {
        "colab": {
          "base_uri": "https://localhost:8080/",
          "height": 281
        },
        "id": "BG45u7eZAJMO",
        "outputId": "5c978930-8d01-4986-d556-21f2b06ca061"
      },
      "execution_count": null,
      "outputs": [
        {
          "output_type": "display_data",
          "data": {
            "text/html": [
              "<table class=\"dataframe\">\n",
              "<caption>A matrix: 2 × 2 of type dbl</caption>\n",
              "<tbody>\n",
              "\t<tr><td>2</td><td>3</td></tr>\n",
              "\t<tr><td>1</td><td>4</td></tr>\n",
              "</tbody>\n",
              "</table>\n"
            ],
            "text/markdown": "\nA matrix: 2 × 2 of type dbl\n\n| 2 | 3 |\n| 1 | 4 |\n\n",
            "text/latex": "A matrix: 2 × 2 of type dbl\n\\begin{tabular}{ll}\n\t 2 & 3\\\\\n\t 1 & 4\\\\\n\\end{tabular}\n",
            "text/plain": [
              "     [,1] [,2]\n",
              "[1,] 2    3   \n",
              "[2,] 1    4   "
            ]
          },
          "metadata": {}
        },
        {
          "output_type": "display_data",
          "data": {
            "text/html": [
              "<table class=\"dataframe\">\n",
              "<caption>A matrix: 2 × 2 of type dbl</caption>\n",
              "<tbody>\n",
              "\t<tr><td> 0.8</td><td>-0.6</td></tr>\n",
              "\t<tr><td>-0.2</td><td> 0.4</td></tr>\n",
              "</tbody>\n",
              "</table>\n"
            ],
            "text/markdown": "\nA matrix: 2 × 2 of type dbl\n\n|  0.8 | -0.6 |\n| -0.2 |  0.4 |\n\n",
            "text/latex": "A matrix: 2 × 2 of type dbl\n\\begin{tabular}{ll}\n\t  0.8 & -0.6\\\\\n\t -0.2 &  0.4\\\\\n\\end{tabular}\n",
            "text/plain": [
              "     [,1] [,2]\n",
              "[1,]  0.8 -0.6\n",
              "[2,] -0.2  0.4"
            ]
          },
          "metadata": {}
        }
      ]
    },
    {
      "cell_type": "code",
      "source": [
        "# Verifying that A * A_inverse = I and A_inverse * A = I\n",
        "A %*% A_inverse  # should be the identity matrix"
      ],
      "metadata": {
        "colab": {
          "base_uri": "https://localhost:8080/",
          "height": 114
        },
        "id": "gQ8VHvS_Adq2",
        "outputId": "ed316dba-59fe-4360-b4c2-0a219e6be13b"
      },
      "execution_count": null,
      "outputs": [
        {
          "output_type": "display_data",
          "data": {
            "text/html": [
              "<table class=\"dataframe\">\n",
              "<caption>A matrix: 2 × 2 of type dbl</caption>\n",
              "<tbody>\n",
              "\t<tr><td>1</td><td>-1.110223e-16</td></tr>\n",
              "\t<tr><td>0</td><td> 1.000000e+00</td></tr>\n",
              "</tbody>\n",
              "</table>\n"
            ],
            "text/markdown": "\nA matrix: 2 × 2 of type dbl\n\n| 1 | -1.110223e-16 |\n| 0 |  1.000000e+00 |\n\n",
            "text/latex": "A matrix: 2 × 2 of type dbl\n\\begin{tabular}{ll}\n\t 1 & -1.110223e-16\\\\\n\t 0 &  1.000000e+00\\\\\n\\end{tabular}\n",
            "text/plain": [
              "     [,1] [,2]         \n",
              "[1,] 1    -1.110223e-16\n",
              "[2,] 0     1.000000e+00"
            ]
          },
          "metadata": {}
        }
      ]
    },
    {
      "cell_type": "code",
      "source": [
        "A_inverse %*% A"
      ],
      "metadata": {
        "colab": {
          "base_uri": "https://localhost:8080/",
          "height": 166
        },
        "id": "-j5LMoCCrqz2",
        "outputId": "44d72a57-02c6-4489-9fe5-0a90b7c7f173"
      },
      "execution_count": null,
      "outputs": [
        {
          "output_type": "display_data",
          "data": {
            "text/html": [
              "<table class=\"dataframe\">\n",
              "<caption>A matrix: 2 × 2 of type dbl</caption>\n",
              "<tbody>\n",
              "\t<tr><td>1</td><td>0</td></tr>\n",
              "\t<tr><td>0</td><td>1</td></tr>\n",
              "</tbody>\n",
              "</table>\n"
            ],
            "text/markdown": "\nA matrix: 2 × 2 of type dbl\n\n| 1 | 0 |\n| 0 | 1 |\n\n",
            "text/latex": "A matrix: 2 × 2 of type dbl\n\\begin{tabular}{ll}\n\t 1 & 0\\\\\n\t 0 & 1\\\\\n\\end{tabular}\n",
            "text/plain": [
              "     [,1] [,2]\n",
              "[1,] 1    0   \n",
              "[2,] 0    1   "
            ]
          },
          "metadata": {}
        }
      ]
    },
    {
      "cell_type": "markdown",
      "source": [
        "Question:\n",
        "\n",
        "You are given a 2x2 nonsingular (invertible) matrix **A**:\n",
        "\n",
        "$\n",
        "\\mathbf{A} = \\begin{bmatrix}\n",
        "3 & 5 \\\\\n",
        "2 & 6 \\\\\n",
        "\\end{bmatrix}\n",
        "$\n",
        "\n",
        "Write code to compute the inverse of the matrix **A**. Verify your results.\n"
      ],
      "metadata": {
        "id": "AZhewXl2DwgG"
      }
    },
    {
      "cell_type": "code",
      "source": [],
      "metadata": {
        "id": "NvXaX0ONEF5c"
      },
      "execution_count": null,
      "outputs": []
    },
    {
      "cell_type": "markdown",
      "source": [
        "# Acknowledgment"
      ],
      "metadata": {
        "id": "gNyqaCpLvlFa"
      }
    },
    {
      "cell_type": "markdown",
      "source": [
        "\n",
        "\n",
        "\n",
        "Reference:\n",
        "1. STAT 510 Lecture Notes, Iowa State University\n",
        "2. STAT 206 Lecture Notes, University of California, Davis\n",
        "3. SISG - Introduction to Mixed Model, Guilherme J. M. Rosa, University of Wisconsin-Madison\n",
        "4. lmmonboard: https://lmmonboard.ucdavis.edu/myapp, Hao Cheng, Chunpeng James Chen\n",
        "\n",
        "Contributors:\n",
        "* Tianjing Zhao (tzhao9@unl.edu), University of Nebraska-Lincoln\n",
        "* Brian Rice (brice7@unl.edu), University of Nebraska-Lincoln\n",
        "* Hao Cheng (qtlcheng@ucdavis.edu), University of California, Davis\n",
        "* GPT-4"
      ],
      "metadata": {
        "id": "6WYcn2XulZ2F"
      }
    }
  ]
}